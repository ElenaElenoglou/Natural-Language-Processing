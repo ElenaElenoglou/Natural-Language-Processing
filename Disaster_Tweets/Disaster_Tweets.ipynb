{
 "cells": [
  {
   "cell_type": "markdown",
   "metadata": {
    "id": "2iylHHJhmBS6"
   },
   "source": [
    "# Projet - Real or Not? NLP with Disaster Tweets\n",
    "\n",
    "## Project description \n",
    "\n",
    "* Competition - https://www.kaggle.com/c/nlp-getting-started"
   ]
  },
  {
   "cell_type": "code",
   "execution_count": 1,
   "metadata": {
    "colab": {
     "base_uri": "https://localhost:8080/"
    },
    "id": "hDIpiqTdmBTx",
    "outputId": "97c4d1e3-830f-4281-9108-cbd8ae327cd7"
   },
   "outputs": [
    {
     "name": "stdout",
     "output_type": "stream",
     "text": [
      "Mounted at /content/drive/\n"
     ]
    }
   ],
   "source": [
    "# Connecting Google Drive with Google Colab\n",
    "from google.colab import drive\n",
    "drive.mount('/content/drive/')"
   ]
  },
  {
   "cell_type": "code",
   "execution_count": 2,
   "metadata": {
    "id": "XnBYIPxmnev6"
   },
   "outputs": [],
   "source": [
    "# Importing libraries\n",
    "import numpy as np\n",
    "import pandas as pd\n",
    "import seaborn as sns\n",
    "import matplotlib.pyplot as plt\n",
    "import tensorflow as tf \n",
    "import tensorflow_datasets as tfds\n",
    "import pathlib \n",
    "import re\n",
    "\n",
    "# Import English using en_core_web_sm.load()\n",
    "import en_core_web_sm\n",
    "nlp = en_core_web_sm.load()\n",
    "import spacy\n",
    "\n",
    "# Import english stop words\n",
    "from spacy.lang.en.stop_words import STOP_WORDS"
   ]
  },
  {
   "cell_type": "code",
   "execution_count": 3,
   "metadata": {
    "id": "gjMqYVJineyH"
   },
   "outputs": [],
   "source": [
    "# Loading the dataset\n",
    "train = pd.read_csv('/content/drive/My Drive/Colab_Notebooks/Projects/Disaster_Tweets/train.csv')\n",
    "test = pd.read_csv('/content/drive/My Drive/Colab_Notebooks/Projects/Disaster_Tweets/test.csv')"
   ]
  },
  {
   "cell_type": "markdown",
   "metadata": {
    "id": "yA5yEfZnvvzU"
   },
   "source": [
    "# Data Exploratory"
   ]
  },
  {
   "cell_type": "code",
   "execution_count": 4,
   "metadata": {
    "colab": {
     "base_uri": "https://localhost:8080/"
    },
    "id": "cRRVMS0one0w",
    "outputId": "532b85bf-e46b-4c8d-a176-1e75980df618"
   },
   "outputs": [
    {
     "data": {
      "text/plain": [
       "((7613, 5), (3263, 4))"
      ]
     },
     "execution_count": 4,
     "metadata": {
      "tags": []
     },
     "output_type": "execute_result"
    }
   ],
   "source": [
    "# Returning the shape of our datasets\n",
    "train.shape, test.shape"
   ]
  },
  {
   "cell_type": "code",
   "execution_count": 5,
   "metadata": {
    "colab": {
     "base_uri": "https://localhost:8080/"
    },
    "id": "_WurTsAKne2z",
    "outputId": "3072a9e7-bc62-468b-eacf-fdb62fa9bf61"
   },
   "outputs": [
    {
     "data": {
      "text/plain": [
       "id           0.000000\n",
       "keyword      0.801261\n",
       "location    33.272035\n",
       "text         0.000000\n",
       "target       0.000000\n",
       "dtype: float64"
      ]
     },
     "execution_count": 5,
     "metadata": {
      "tags": []
     },
     "output_type": "execute_result"
    }
   ],
   "source": [
    "# Returning the percentage of missing values\n",
    "train.isnull().sum() * 100 / len(train)"
   ]
  },
  {
   "cell_type": "code",
   "execution_count": 6,
   "metadata": {
    "colab": {
     "base_uri": "https://localhost:8080/"
    },
    "id": "pcGW-hIGne60",
    "outputId": "4a080c3e-3fff-4e97-9016-cea1b8f09de9"
   },
   "outputs": [
    {
     "data": {
      "text/plain": [
       "id           0.000000\n",
       "keyword      0.796813\n",
       "location    33.864542\n",
       "text         0.000000\n",
       "dtype: float64"
      ]
     },
     "execution_count": 6,
     "metadata": {
      "tags": []
     },
     "output_type": "execute_result"
    }
   ],
   "source": [
    "# Returning the percentage of missing values\n",
    "test.isnull().sum() * 100 / len(test)"
   ]
  },
  {
   "cell_type": "code",
   "execution_count": 7,
   "metadata": {
    "colab": {
     "base_uri": "https://localhost:8080/"
    },
    "id": "qlcK_21Hne9D",
    "outputId": "eec693fd-6fb4-4d0b-f3d3-cf00e6ce01a0"
   },
   "outputs": [
    {
     "data": {
      "text/plain": [
       "id           int64\n",
       "keyword     object\n",
       "location    object\n",
       "text        object\n",
       "target       int64\n",
       "dtype: object"
      ]
     },
     "execution_count": 7,
     "metadata": {
      "tags": []
     },
     "output_type": "execute_result"
    }
   ],
   "source": [
    "# Returning the type of elements of each columng\n",
    "train.dtypes"
   ]
  },
  {
   "cell_type": "code",
   "execution_count": 8,
   "metadata": {
    "colab": {
     "base_uri": "https://localhost:8080/"
    },
    "id": "VEZYUEbCrXw_",
    "outputId": "8eba5dae-681a-42fb-ef1c-5c2019e337ca"
   },
   "outputs": [
    {
     "data": {
      "text/plain": [
       "id           int64\n",
       "keyword     object\n",
       "location    object\n",
       "text        object\n",
       "dtype: object"
      ]
     },
     "execution_count": 8,
     "metadata": {
      "tags": []
     },
     "output_type": "execute_result"
    }
   ],
   "source": [
    "# Returning the type of elements of each columng\n",
    "test.dtypes"
   ]
  },
  {
   "cell_type": "code",
   "execution_count": 9,
   "metadata": {
    "colab": {
     "base_uri": "https://localhost:8080/"
    },
    "id": "VE1B7Fijva5A",
    "outputId": "5490d663-ef56-4449-d8ce-78df389705b7"
   },
   "outputs": [
    {
     "data": {
      "text/plain": [
       "fatalities     45\n",
       "armageddon     42\n",
       "deluge         42\n",
       "damage         41\n",
       "sinking        41\n",
       "body%20bags    41\n",
       "harm           41\n",
       "outbreak       40\n",
       "evacuate       40\n",
       "twister        40\n",
       "siren          40\n",
       "windstorm      40\n",
       "fear           40\n",
       "collided       40\n",
       "sinkhole       39\n",
       "wreckage       39\n",
       "sunk           39\n",
       "wrecked        39\n",
       "whirlwind      39\n",
       "derailment     39\n",
       "Name: keyword, dtype: int64"
      ]
     },
     "execution_count": 9,
     "metadata": {
      "tags": []
     },
     "output_type": "execute_result"
    }
   ],
   "source": [
    "# Returning the unique values for the feature 'keyword'\n",
    "train['keyword'].value_counts()[:20]"
   ]
  },
  {
   "cell_type": "code",
   "execution_count": 10,
   "metadata": {
    "colab": {
     "base_uri": "https://localhost:8080/"
    },
    "id": "WzD4NynNvtau",
    "outputId": "cfdec15c-fc5e-4444-d5e5-e0ae43fab61b"
   },
   "outputs": [
    {
     "data": {
      "text/plain": [
       "0    0.57034\n",
       "1    0.42966\n",
       "Name: target, dtype: float64"
      ]
     },
     "execution_count": 10,
     "metadata": {
      "tags": []
     },
     "output_type": "execute_result"
    }
   ],
   "source": [
    "# Percentage of each element of target column on our dataset\n",
    "train['target'].value_counts()/ len(train)"
   ]
  },
  {
   "cell_type": "code",
   "execution_count": 11,
   "metadata": {
    "colab": {
     "base_uri": "https://localhost:8080/"
    },
    "id": "EWmT_Q2VvtdB",
    "outputId": "49796808-d475-4ebf-9d7c-ae1de09764d2"
   },
   "outputs": [
    {
     "data": {
      "text/plain": [
       "deluged               23\n",
       "rubble                22\n",
       "demolished            22\n",
       "annihilation          21\n",
       "obliteration          21\n",
       "first%20responders    21\n",
       "sirens                21\n",
       "snowstorm             21\n",
       "seismic               21\n",
       "bioterrorism          20\n",
       "catastrophic          20\n",
       "dead                  20\n",
       "survivors             20\n",
       "avalanche             20\n",
       "mayhem                20\n",
       "terrorist             19\n",
       "devastated            19\n",
       "trauma                19\n",
       "wild%20fires          19\n",
       "obliterate            19\n",
       "Name: keyword, dtype: int64"
      ]
     },
     "execution_count": 11,
     "metadata": {
      "tags": []
     },
     "output_type": "execute_result"
    }
   ],
   "source": [
    "# Returning the unique values for the feature 'keyword' on test dataset\n",
    "test['keyword'].value_counts()[:20]"
   ]
  },
  {
   "cell_type": "code",
   "execution_count": 12,
   "metadata": {
    "colab": {
     "base_uri": "https://localhost:8080/",
     "height": 204
    },
    "id": "64jfZNm9vtfV",
    "outputId": "2aad42c0-99ba-4a55-e067-2381b21957e4"
   },
   "outputs": [
    {
     "data": {
      "text/html": [
       "<div>\n",
       "<style scoped>\n",
       "    .dataframe tbody tr th:only-of-type {\n",
       "        vertical-align: middle;\n",
       "    }\n",
       "\n",
       "    .dataframe tbody tr th {\n",
       "        vertical-align: top;\n",
       "    }\n",
       "\n",
       "    .dataframe thead th {\n",
       "        text-align: right;\n",
       "    }\n",
       "</style>\n",
       "<table border=\"1\" class=\"dataframe\">\n",
       "  <thead>\n",
       "    <tr style=\"text-align: right;\">\n",
       "      <th></th>\n",
       "      <th>id</th>\n",
       "      <th>keyword</th>\n",
       "      <th>location</th>\n",
       "      <th>text</th>\n",
       "    </tr>\n",
       "  </thead>\n",
       "  <tbody>\n",
       "    <tr>\n",
       "      <th>0</th>\n",
       "      <td>0</td>\n",
       "      <td>NaN</td>\n",
       "      <td>NaN</td>\n",
       "      <td>Just happened a terrible car crash</td>\n",
       "    </tr>\n",
       "    <tr>\n",
       "      <th>1</th>\n",
       "      <td>2</td>\n",
       "      <td>NaN</td>\n",
       "      <td>NaN</td>\n",
       "      <td>Heard about #earthquake is different cities, s...</td>\n",
       "    </tr>\n",
       "    <tr>\n",
       "      <th>2</th>\n",
       "      <td>3</td>\n",
       "      <td>NaN</td>\n",
       "      <td>NaN</td>\n",
       "      <td>there is a forest fire at spot pond, geese are...</td>\n",
       "    </tr>\n",
       "    <tr>\n",
       "      <th>3</th>\n",
       "      <td>9</td>\n",
       "      <td>NaN</td>\n",
       "      <td>NaN</td>\n",
       "      <td>Apocalypse lighting. #Spokane #wildfires</td>\n",
       "    </tr>\n",
       "    <tr>\n",
       "      <th>4</th>\n",
       "      <td>11</td>\n",
       "      <td>NaN</td>\n",
       "      <td>NaN</td>\n",
       "      <td>Typhoon Soudelor kills 28 in China and Taiwan</td>\n",
       "    </tr>\n",
       "  </tbody>\n",
       "</table>\n",
       "</div>"
      ],
      "text/plain": [
       "   id keyword location                                               text\n",
       "0   0     NaN      NaN                 Just happened a terrible car crash\n",
       "1   2     NaN      NaN  Heard about #earthquake is different cities, s...\n",
       "2   3     NaN      NaN  there is a forest fire at spot pond, geese are...\n",
       "3   9     NaN      NaN           Apocalypse lighting. #Spokane #wildfires\n",
       "4  11     NaN      NaN      Typhoon Soudelor kills 28 in China and Taiwan"
      ]
     },
     "execution_count": 12,
     "metadata": {
      "tags": []
     },
     "output_type": "execute_result"
    }
   ],
   "source": [
    "# Returning 5 first rows\n",
    "test.head()"
   ]
  },
  {
   "cell_type": "code",
   "execution_count": 13,
   "metadata": {
    "colab": {
     "base_uri": "https://localhost:8080/",
     "height": 204
    },
    "id": "32yMX2KDvthq",
    "outputId": "6b795acf-9a0c-4c2e-9aa7-5d692f13571c"
   },
   "outputs": [
    {
     "data": {
      "text/html": [
       "<div>\n",
       "<style scoped>\n",
       "    .dataframe tbody tr th:only-of-type {\n",
       "        vertical-align: middle;\n",
       "    }\n",
       "\n",
       "    .dataframe tbody tr th {\n",
       "        vertical-align: top;\n",
       "    }\n",
       "\n",
       "    .dataframe thead th {\n",
       "        text-align: right;\n",
       "    }\n",
       "</style>\n",
       "<table border=\"1\" class=\"dataframe\">\n",
       "  <thead>\n",
       "    <tr style=\"text-align: right;\">\n",
       "      <th></th>\n",
       "      <th>id</th>\n",
       "      <th>keyword</th>\n",
       "      <th>location</th>\n",
       "      <th>text</th>\n",
       "      <th>target</th>\n",
       "    </tr>\n",
       "  </thead>\n",
       "  <tbody>\n",
       "    <tr>\n",
       "      <th>0</th>\n",
       "      <td>1</td>\n",
       "      <td>NaN</td>\n",
       "      <td>NaN</td>\n",
       "      <td>Our Deeds are the Reason of this #earthquake M...</td>\n",
       "      <td>1</td>\n",
       "    </tr>\n",
       "    <tr>\n",
       "      <th>1</th>\n",
       "      <td>4</td>\n",
       "      <td>NaN</td>\n",
       "      <td>NaN</td>\n",
       "      <td>Forest fire near La Ronge Sask. Canada</td>\n",
       "      <td>1</td>\n",
       "    </tr>\n",
       "    <tr>\n",
       "      <th>2</th>\n",
       "      <td>5</td>\n",
       "      <td>NaN</td>\n",
       "      <td>NaN</td>\n",
       "      <td>All residents asked to 'shelter in place' are ...</td>\n",
       "      <td>1</td>\n",
       "    </tr>\n",
       "    <tr>\n",
       "      <th>3</th>\n",
       "      <td>6</td>\n",
       "      <td>NaN</td>\n",
       "      <td>NaN</td>\n",
       "      <td>13,000 people receive #wildfires evacuation or...</td>\n",
       "      <td>1</td>\n",
       "    </tr>\n",
       "    <tr>\n",
       "      <th>4</th>\n",
       "      <td>7</td>\n",
       "      <td>NaN</td>\n",
       "      <td>NaN</td>\n",
       "      <td>Just got sent this photo from Ruby #Alaska as ...</td>\n",
       "      <td>1</td>\n",
       "    </tr>\n",
       "  </tbody>\n",
       "</table>\n",
       "</div>"
      ],
      "text/plain": [
       "   id keyword  ...                                               text target\n",
       "0   1     NaN  ...  Our Deeds are the Reason of this #earthquake M...      1\n",
       "1   4     NaN  ...             Forest fire near La Ronge Sask. Canada      1\n",
       "2   5     NaN  ...  All residents asked to 'shelter in place' are ...      1\n",
       "3   6     NaN  ...  13,000 people receive #wildfires evacuation or...      1\n",
       "4   7     NaN  ...  Just got sent this photo from Ruby #Alaska as ...      1\n",
       "\n",
       "[5 rows x 5 columns]"
      ]
     },
     "execution_count": 13,
     "metadata": {
      "tags": []
     },
     "output_type": "execute_result"
    }
   ],
   "source": [
    "# Returning 5 first rows\n",
    "train.head()"
   ]
  },
  {
   "cell_type": "markdown",
   "metadata": {
    "id": "4OocLlLKCJr0"
   },
   "source": [
    "### Imputing missing values"
   ]
  },
  {
   "cell_type": "code",
   "execution_count": 14,
   "metadata": {
    "id": "4FkvOWwLxrOh"
   },
   "outputs": [],
   "source": [
    "# Removing the 'location' feature\n",
    "train = train.drop(['location'], axis = 1)\n",
    "test = test.drop(['location'], axis = 1)"
   ]
  },
  {
   "cell_type": "code",
   "execution_count": 15,
   "metadata": {
    "id": "YIc_JiE8yRkX"
   },
   "outputs": [],
   "source": [
    "# Removing the missing values\n",
    "train = train.dropna(subset=['keyword'])\n",
    "test = test.dropna(subset=['keyword'])"
   ]
  },
  {
   "cell_type": "code",
   "execution_count": 16,
   "metadata": {
    "colab": {
     "base_uri": "https://localhost:8080/"
    },
    "id": "m8gtTIOzsaIy",
    "outputId": "97eecd62-7133-483d-dca7-d138dd5d1bd4"
   },
   "outputs": [
    {
     "data": {
      "text/plain": [
       "(0, 0)"
      ]
     },
     "execution_count": 16,
     "metadata": {
      "tags": []
     },
     "output_type": "execute_result"
    }
   ],
   "source": [
    "# Returning number of missing values\n",
    "train.isnull().sum().sum(), test.isnull().sum().sum()"
   ]
  },
  {
   "cell_type": "markdown",
   "metadata": {
    "id": "MasAIRVy6DJA"
   },
   "source": [
    "## Tokenize"
   ]
  },
  {
   "cell_type": "code",
   "execution_count": 17,
   "metadata": {
    "colab": {
     "base_uri": "https://localhost:8080/",
     "height": 204
    },
    "id": "VsH3Nbffinme",
    "outputId": "40063cc3-e95e-480e-ef18-520963444d43"
   },
   "outputs": [
    {
     "data": {
      "text/html": [
       "<div>\n",
       "<style scoped>\n",
       "    .dataframe tbody tr th:only-of-type {\n",
       "        vertical-align: middle;\n",
       "    }\n",
       "\n",
       "    .dataframe tbody tr th {\n",
       "        vertical-align: top;\n",
       "    }\n",
       "\n",
       "    .dataframe thead th {\n",
       "        text-align: right;\n",
       "    }\n",
       "</style>\n",
       "<table border=\"1\" class=\"dataframe\">\n",
       "  <thead>\n",
       "    <tr style=\"text-align: right;\">\n",
       "      <th></th>\n",
       "      <th>id</th>\n",
       "      <th>keyword</th>\n",
       "      <th>text</th>\n",
       "      <th>target</th>\n",
       "      <th>cleaned_text</th>\n",
       "    </tr>\n",
       "  </thead>\n",
       "  <tbody>\n",
       "    <tr>\n",
       "      <th>31</th>\n",
       "      <td>48</td>\n",
       "      <td>ablaze</td>\n",
       "      <td>@bbcmtd Wholesale Markets ablaze http://t.co/l...</td>\n",
       "      <td>1</td>\n",
       "      <td>[@bbcmtd, wholesale, markets, ablaze, http://t...</td>\n",
       "    </tr>\n",
       "    <tr>\n",
       "      <th>32</th>\n",
       "      <td>49</td>\n",
       "      <td>ablaze</td>\n",
       "      <td>We always try to bring the heavy. #metal #RT h...</td>\n",
       "      <td>0</td>\n",
       "      <td>[we, always, try, to, bring, the, heavy., #met...</td>\n",
       "    </tr>\n",
       "    <tr>\n",
       "      <th>33</th>\n",
       "      <td>50</td>\n",
       "      <td>ablaze</td>\n",
       "      <td>#AFRICANBAZE: Breaking news:Nigeria flag set a...</td>\n",
       "      <td>1</td>\n",
       "      <td>[#africanbaze:, breaking, news:nigeria, flag, ...</td>\n",
       "    </tr>\n",
       "    <tr>\n",
       "      <th>34</th>\n",
       "      <td>52</td>\n",
       "      <td>ablaze</td>\n",
       "      <td>Crying out for more! Set me ablaze</td>\n",
       "      <td>0</td>\n",
       "      <td>[crying, out, for, more!, set, me, ablaze]</td>\n",
       "    </tr>\n",
       "    <tr>\n",
       "      <th>35</th>\n",
       "      <td>53</td>\n",
       "      <td>ablaze</td>\n",
       "      <td>On plus side LOOK AT THE SKY LAST NIGHT IT WAS...</td>\n",
       "      <td>0</td>\n",
       "      <td>[on, plus, side, look, at, the, sky, last, nig...</td>\n",
       "    </tr>\n",
       "  </tbody>\n",
       "</table>\n",
       "</div>"
      ],
      "text/plain": [
       "    id keyword  ... target                                       cleaned_text\n",
       "31  48  ablaze  ...      1  [@bbcmtd, wholesale, markets, ablaze, http://t...\n",
       "32  49  ablaze  ...      0  [we, always, try, to, bring, the, heavy., #met...\n",
       "33  50  ablaze  ...      1  [#africanbaze:, breaking, news:nigeria, flag, ...\n",
       "34  52  ablaze  ...      0         [crying, out, for, more!, set, me, ablaze]\n",
       "35  53  ablaze  ...      0  [on, plus, side, look, at, the, sky, last, nig...\n",
       "\n",
       "[5 rows x 5 columns]"
      ]
     },
     "execution_count": 17,
     "metadata": {
      "tags": []
     },
     "output_type": "execute_result"
    }
   ],
   "source": [
    "# Making everything in lowercase\n",
    "train[\"cleaned_text\"] = train[\"text\"].str.lower().str.split()\n",
    "\n",
    "train.head()"
   ]
  },
  {
   "cell_type": "markdown",
   "metadata": {
    "id": "h3sZ8SsWAqV6"
   },
   "source": [
    "As we see our text column contains symbols like #, @. These symbols will not be removed since they could help our model to recognize a disaster even though a relevant word is being used."
   ]
  },
  {
   "cell_type": "code",
   "execution_count": 18,
   "metadata": {
    "colab": {
     "base_uri": "https://localhost:8080/",
     "height": 204
    },
    "id": "hx4H3MITjMQr",
    "outputId": "643dbe3f-0831-4148-d539-66b3b1f94f95"
   },
   "outputs": [
    {
     "data": {
      "text/html": [
       "<div>\n",
       "<style scoped>\n",
       "    .dataframe tbody tr th:only-of-type {\n",
       "        vertical-align: middle;\n",
       "    }\n",
       "\n",
       "    .dataframe tbody tr th {\n",
       "        vertical-align: top;\n",
       "    }\n",
       "\n",
       "    .dataframe thead th {\n",
       "        text-align: right;\n",
       "    }\n",
       "</style>\n",
       "<table border=\"1\" class=\"dataframe\">\n",
       "  <thead>\n",
       "    <tr style=\"text-align: right;\">\n",
       "      <th></th>\n",
       "      <th>id</th>\n",
       "      <th>keyword</th>\n",
       "      <th>text</th>\n",
       "      <th>target</th>\n",
       "      <th>cleaned_text</th>\n",
       "    </tr>\n",
       "  </thead>\n",
       "  <tbody>\n",
       "    <tr>\n",
       "      <th>31</th>\n",
       "      <td>48</td>\n",
       "      <td>ablaze</td>\n",
       "      <td>@bbcmtd Wholesale Markets ablaze http://t.co/l...</td>\n",
       "      <td>1</td>\n",
       "      <td>@bbcmtd wholesale markets ablaze</td>\n",
       "    </tr>\n",
       "    <tr>\n",
       "      <th>32</th>\n",
       "      <td>49</td>\n",
       "      <td>ablaze</td>\n",
       "      <td>We always try to bring the heavy. #metal #RT h...</td>\n",
       "      <td>0</td>\n",
       "      <td>we always try to bring the #metal #rt</td>\n",
       "    </tr>\n",
       "    <tr>\n",
       "      <th>33</th>\n",
       "      <td>50</td>\n",
       "      <td>ablaze</td>\n",
       "      <td>#AFRICANBAZE: Breaking news:Nigeria flag set a...</td>\n",
       "      <td>1</td>\n",
       "      <td>#africanbaze: breaking flag set ablaze in</td>\n",
       "    </tr>\n",
       "    <tr>\n",
       "      <th>34</th>\n",
       "      <td>52</td>\n",
       "      <td>ablaze</td>\n",
       "      <td>Crying out for more! Set me ablaze</td>\n",
       "      <td>0</td>\n",
       "      <td>crying out for set me ablaze</td>\n",
       "    </tr>\n",
       "    <tr>\n",
       "      <th>35</th>\n",
       "      <td>53</td>\n",
       "      <td>ablaze</td>\n",
       "      <td>On plus side LOOK AT THE SKY LAST NIGHT IT WAS...</td>\n",
       "      <td>0</td>\n",
       "      <td>on plus side look at the sky last night it was...</td>\n",
       "    </tr>\n",
       "  </tbody>\n",
       "</table>\n",
       "</div>"
      ],
      "text/plain": [
       "    id keyword  ... target                                       cleaned_text\n",
       "31  48  ablaze  ...      1                   @bbcmtd wholesale markets ablaze\n",
       "32  49  ablaze  ...      0              we always try to bring the #metal #rt\n",
       "33  50  ablaze  ...      1          #africanbaze: breaking flag set ablaze in\n",
       "34  52  ablaze  ...      0                       crying out for set me ablaze\n",
       "35  53  ablaze  ...      0  on plus side look at the sky last night it was...\n",
       "\n",
       "[5 rows x 5 columns]"
      ]
     },
     "execution_count": 18,
     "metadata": {
      "tags": []
     },
     "output_type": "execute_result"
    }
   ],
   "source": [
    "# Removing punctuation but not 'hashtag' and '@' symbols\n",
    "train['cleaned_text'] = train['cleaned_text'].apply(lambda x:' '.join(ch for ch in x if ch.isalnum() or ch.startswith('#') or ch.startswith('@')))\n",
    "train.head()"
   ]
  },
  {
   "cell_type": "code",
   "execution_count": 19,
   "metadata": {
    "colab": {
     "base_uri": "https://localhost:8080/",
     "height": 669
    },
    "id": "PPWK82mPgQOY",
    "outputId": "9ffcaad8-9cb4-458e-dfc7-a7ea138a6e83"
   },
   "outputs": [
    {
     "data": {
      "text/html": [
       "<div>\n",
       "<style scoped>\n",
       "    .dataframe tbody tr th:only-of-type {\n",
       "        vertical-align: middle;\n",
       "    }\n",
       "\n",
       "    .dataframe tbody tr th {\n",
       "        vertical-align: top;\n",
       "    }\n",
       "\n",
       "    .dataframe thead th {\n",
       "        text-align: right;\n",
       "    }\n",
       "</style>\n",
       "<table border=\"1\" class=\"dataframe\">\n",
       "  <thead>\n",
       "    <tr style=\"text-align: right;\">\n",
       "      <th></th>\n",
       "      <th>id</th>\n",
       "      <th>keyword</th>\n",
       "      <th>text</th>\n",
       "      <th>target</th>\n",
       "      <th>cleaned_text</th>\n",
       "    </tr>\n",
       "  </thead>\n",
       "  <tbody>\n",
       "    <tr>\n",
       "      <th>31</th>\n",
       "      <td>48</td>\n",
       "      <td>ablaze</td>\n",
       "      <td>@bbcmtd Wholesale Markets ablaze http://t.co/l...</td>\n",
       "      <td>1</td>\n",
       "      <td>@bbcmtd wholesale market ablaze</td>\n",
       "    </tr>\n",
       "    <tr>\n",
       "      <th>32</th>\n",
       "      <td>49</td>\n",
       "      <td>ablaze</td>\n",
       "      <td>We always try to bring the heavy. #metal #RT h...</td>\n",
       "      <td>0</td>\n",
       "      <td>-PRON- try bring # metal # rt</td>\n",
       "    </tr>\n",
       "    <tr>\n",
       "      <th>33</th>\n",
       "      <td>50</td>\n",
       "      <td>ablaze</td>\n",
       "      <td>#AFRICANBAZE: Breaking news:Nigeria flag set a...</td>\n",
       "      <td>1</td>\n",
       "      <td># africanbaze : break flag set ablaze</td>\n",
       "    </tr>\n",
       "    <tr>\n",
       "      <th>34</th>\n",
       "      <td>52</td>\n",
       "      <td>ablaze</td>\n",
       "      <td>Crying out for more! Set me ablaze</td>\n",
       "      <td>0</td>\n",
       "      <td>cry set -PRON- ablaze</td>\n",
       "    </tr>\n",
       "    <tr>\n",
       "      <th>35</th>\n",
       "      <td>53</td>\n",
       "      <td>ablaze</td>\n",
       "      <td>On plus side LOOK AT THE SKY LAST NIGHT IT WAS...</td>\n",
       "      <td>0</td>\n",
       "      <td>plus look sky night -PRON- ablaze</td>\n",
       "    </tr>\n",
       "    <tr>\n",
       "      <th>36</th>\n",
       "      <td>54</td>\n",
       "      <td>ablaze</td>\n",
       "      <td>@PhDSquares #mufc they've built so much hype a...</td>\n",
       "      <td>0</td>\n",
       "      <td>@phdsquares # mufc build hype new acquisition ...</td>\n",
       "    </tr>\n",
       "    <tr>\n",
       "      <th>37</th>\n",
       "      <td>55</td>\n",
       "      <td>ablaze</td>\n",
       "      <td>INEC Office in Abia Set Ablaze - http://t.co/3...</td>\n",
       "      <td>1</td>\n",
       "      <td>inec office abia set ablaze</td>\n",
       "    </tr>\n",
       "    <tr>\n",
       "      <th>38</th>\n",
       "      <td>56</td>\n",
       "      <td>ablaze</td>\n",
       "      <td>Barbados #Bridgetown JAMAICA ÛÒ Two cars set ...</td>\n",
       "      <td>1</td>\n",
       "      <td>barbados # bridgetown jamaica car set santa cr...</td>\n",
       "    </tr>\n",
       "    <tr>\n",
       "      <th>39</th>\n",
       "      <td>57</td>\n",
       "      <td>ablaze</td>\n",
       "      <td>Ablaze for you Lord :D</td>\n",
       "      <td>0</td>\n",
       "      <td>ablaze -PRON- lord</td>\n",
       "    </tr>\n",
       "    <tr>\n",
       "      <th>40</th>\n",
       "      <td>59</td>\n",
       "      <td>ablaze</td>\n",
       "      <td>Check these out: http://t.co/rOI2NSmEJJ http:/...</td>\n",
       "      <td>0</td>\n",
       "      <td>check # nsfw</td>\n",
       "    </tr>\n",
       "    <tr>\n",
       "      <th>41</th>\n",
       "      <td>61</td>\n",
       "      <td>ablaze</td>\n",
       "      <td>on the outside you're ablaze and alive\\nbut yo...</td>\n",
       "      <td>0</td>\n",
       "      <td>outside ablaze alive dead inside</td>\n",
       "    </tr>\n",
       "    <tr>\n",
       "      <th>42</th>\n",
       "      <td>62</td>\n",
       "      <td>ablaze</td>\n",
       "      <td>Had an awesome time visiting the CFC head offi...</td>\n",
       "      <td>0</td>\n",
       "      <td>awesome time visit cfc head office ancop site ...</td>\n",
       "    </tr>\n",
       "    <tr>\n",
       "      <th>43</th>\n",
       "      <td>63</td>\n",
       "      <td>ablaze</td>\n",
       "      <td>SOOOO PUMPED FOR ABLAZE ???? @southridgelife</td>\n",
       "      <td>0</td>\n",
       "      <td>soooo pump ablaze @southridgelife</td>\n",
       "    </tr>\n",
       "    <tr>\n",
       "      <th>44</th>\n",
       "      <td>64</td>\n",
       "      <td>ablaze</td>\n",
       "      <td>I wanted to set Chicago ablaze with my preachi...</td>\n",
       "      <td>0</td>\n",
       "      <td>want set chicago ablaze -PRON- -PRON-</td>\n",
       "    </tr>\n",
       "    <tr>\n",
       "      <th>45</th>\n",
       "      <td>65</td>\n",
       "      <td>ablaze</td>\n",
       "      <td>I gained 3 followers in the last week. You? Kn...</td>\n",
       "      <td>0</td>\n",
       "      <td>gain 3 follower know -PRON- stat grow</td>\n",
       "    </tr>\n",
       "    <tr>\n",
       "      <th>46</th>\n",
       "      <td>66</td>\n",
       "      <td>ablaze</td>\n",
       "      <td>How the West was burned: Thousands of wildfire...</td>\n",
       "      <td>1</td>\n",
       "      <td>west thousand wildfire ablaze california</td>\n",
       "    </tr>\n",
       "    <tr>\n",
       "      <th>47</th>\n",
       "      <td>67</td>\n",
       "      <td>ablaze</td>\n",
       "      <td>Building the perfect tracklist to life leave t...</td>\n",
       "      <td>0</td>\n",
       "      <td>build perfect tracklist life leave street ablaze</td>\n",
       "    </tr>\n",
       "    <tr>\n",
       "      <th>48</th>\n",
       "      <td>68</td>\n",
       "      <td>ablaze</td>\n",
       "      <td>Check these out: http://t.co/rOI2NSmEJJ http:/...</td>\n",
       "      <td>0</td>\n",
       "      <td>check # nsfw</td>\n",
       "    </tr>\n",
       "    <tr>\n",
       "      <th>49</th>\n",
       "      <td>71</td>\n",
       "      <td>ablaze</td>\n",
       "      <td>First night with retainers in. It's quite weir...</td>\n",
       "      <td>0</td>\n",
       "      <td>night retainer better wear -PRON- single night...</td>\n",
       "    </tr>\n",
       "    <tr>\n",
       "      <th>50</th>\n",
       "      <td>73</td>\n",
       "      <td>ablaze</td>\n",
       "      <td>Deputies: Man shot before Brighton home set ab...</td>\n",
       "      <td>1</td>\n",
       "      <td>man shoot brighton home set ablaze</td>\n",
       "    </tr>\n",
       "  </tbody>\n",
       "</table>\n",
       "</div>"
      ],
      "text/plain": [
       "    id keyword  ... target                                       cleaned_text\n",
       "31  48  ablaze  ...      1                    @bbcmtd wholesale market ablaze\n",
       "32  49  ablaze  ...      0                      -PRON- try bring # metal # rt\n",
       "33  50  ablaze  ...      1              # africanbaze : break flag set ablaze\n",
       "34  52  ablaze  ...      0                              cry set -PRON- ablaze\n",
       "35  53  ablaze  ...      0                  plus look sky night -PRON- ablaze\n",
       "36  54  ablaze  ...      0  @phdsquares # mufc build hype new acquisition ...\n",
       "37  55  ablaze  ...      1                        inec office abia set ablaze\n",
       "38  56  ablaze  ...      1  barbados # bridgetown jamaica car set santa cr...\n",
       "39  57  ablaze  ...      0                                 ablaze -PRON- lord\n",
       "40  59  ablaze  ...      0                                       check # nsfw\n",
       "41  61  ablaze  ...      0                   outside ablaze alive dead inside\n",
       "42  62  ablaze  ...      0  awesome time visit cfc head office ancop site ...\n",
       "43  63  ablaze  ...      0                  soooo pump ablaze @southridgelife\n",
       "44  64  ablaze  ...      0              want set chicago ablaze -PRON- -PRON-\n",
       "45  65  ablaze  ...      0              gain 3 follower know -PRON- stat grow\n",
       "46  66  ablaze  ...      1           west thousand wildfire ablaze california\n",
       "47  67  ablaze  ...      0   build perfect tracklist life leave street ablaze\n",
       "48  68  ablaze  ...      0                                       check # nsfw\n",
       "49  71  ablaze  ...      0  night retainer better wear -PRON- single night...\n",
       "50  73  ablaze  ...      1                 man shoot brighton home set ablaze\n",
       "\n",
       "[20 rows x 5 columns]"
      ]
     },
     "execution_count": 19,
     "metadata": {
      "tags": []
     },
     "output_type": "execute_result"
    }
   ],
   "source": [
    "# Removing stop-words\n",
    "train[\"cleaned_text\"] = train[\"cleaned_text\"].apply(lambda x: \" \".join([token.lemma_ for token in nlp(x) if token.lemma_ not in STOP_WORDS]))\n",
    "train.head(20)"
   ]
  },
  {
   "cell_type": "code",
   "execution_count": 20,
   "metadata": {
    "id": "D91ahNbO6jqm"
   },
   "outputs": [],
   "source": [
    "# Creating a tokenizer instance\n",
    "token = tf.keras.preprocessing.text.Tokenizer()"
   ]
  },
  {
   "cell_type": "code",
   "execution_count": 21,
   "metadata": {
    "id": "Ph_oDlX566sH"
   },
   "outputs": [],
   "source": [
    "# Fitting the tokenizer on texts\n",
    "token.fit_on_texts(train['text'])"
   ]
  },
  {
   "cell_type": "code",
   "execution_count": 22,
   "metadata": {
    "colab": {
     "base_uri": "https://localhost:8080/"
    },
    "id": "HKX1iuth6-jM",
    "outputId": "40ed9dcd-bc43-46e9-9f90-4d0530312e21"
   },
   "outputs": [
    {
     "data": {
      "text/plain": [
       "{'t': 1,\n",
       " 'co': 2,\n",
       " 'http': 3,\n",
       " 'the': 4,\n",
       " 'a': 5,\n",
       " 'in': 6,\n",
       " 'to': 7,\n",
       " 'of': 8,\n",
       " 'and': 9,\n",
       " 'i': 10,\n",
       " 'is': 11,\n",
       " 'for': 12,\n",
       " 'on': 13,\n",
       " 'you': 14,\n",
       " 'my': 15,\n",
       " 'with': 16,\n",
       " 'it': 17,\n",
       " 'that': 18,\n",
       " 'at': 19,\n",
       " 'by': 20,\n",
       " 'this': 21,\n",
       " 'from': 22,\n",
       " 'https': 23,\n",
       " 'be': 24,\n",
       " 'are': 25,\n",
       " 'was': 26,\n",
       " 'have': 27,\n",
       " 'like': 28,\n",
       " 'amp': 29,\n",
       " 'as': 30,\n",
       " 'me': 31,\n",
       " 'up': 32,\n",
       " 'but': 33,\n",
       " 'just': 34,\n",
       " 'so': 35,\n",
       " 'not': 36,\n",
       " 'your': 37,\n",
       " 'out': 38,\n",
       " 'no': 39,\n",
       " 'will': 40,\n",
       " 'all': 41,\n",
       " 'after': 42,\n",
       " 'has': 43,\n",
       " 'an': 44,\n",
       " 'fire': 45,\n",
       " 'when': 46,\n",
       " \"i'm\": 47,\n",
       " 'if': 48,\n",
       " 'get': 49,\n",
       " 'we': 50,\n",
       " 'new': 51,\n",
       " 'now': 52,\n",
       " 'via': 53,\n",
       " '2': 54,\n",
       " 'more': 55,\n",
       " 'about': 56,\n",
       " 'or': 57,\n",
       " 'news': 58,\n",
       " 'they': 59,\n",
       " 'one': 60,\n",
       " 'he': 61,\n",
       " 'people': 62,\n",
       " 'how': 63,\n",
       " 'what': 64,\n",
       " 'been': 65,\n",
       " 'over': 66,\n",
       " 'who': 67,\n",
       " \"it's\": 68,\n",
       " \"don't\": 69,\n",
       " 'into': 70,\n",
       " 'do': 71,\n",
       " 'video': 72,\n",
       " \"'\": 73,\n",
       " 'can': 74,\n",
       " 'emergency': 75,\n",
       " 'disaster': 76,\n",
       " 'there': 77,\n",
       " 'police': 78,\n",
       " 'than': 79,\n",
       " '3': 80,\n",
       " 'her': 81,\n",
       " 'u': 82,\n",
       " 'would': 83,\n",
       " 'still': 84,\n",
       " 'his': 85,\n",
       " 'some': 86,\n",
       " 'body': 87,\n",
       " 'were': 88,\n",
       " 'us': 89,\n",
       " 'burning': 90,\n",
       " 'back': 91,\n",
       " 'storm': 92,\n",
       " 'crash': 93,\n",
       " 'time': 94,\n",
       " 'day': 95,\n",
       " 'them': 96,\n",
       " 'know': 97,\n",
       " '1': 98,\n",
       " 'off': 99,\n",
       " 'got': 100,\n",
       " 'why': 101,\n",
       " 'rt': 102,\n",
       " 'had': 103,\n",
       " 'man': 104,\n",
       " 'buildings': 105,\n",
       " 'california': 106,\n",
       " 's': 107,\n",
       " 'suicide': 108,\n",
       " 'first': 109,\n",
       " 'see': 110,\n",
       " 'going': 111,\n",
       " 'world': 112,\n",
       " 'nuclear': 113,\n",
       " 'two': 114,\n",
       " 'fires': 115,\n",
       " 'bomb': 116,\n",
       " 'killed': 117,\n",
       " 'youtube': 118,\n",
       " 'love': 119,\n",
       " 'dead': 120,\n",
       " 'year': 121,\n",
       " 'our': 122,\n",
       " 'attack': 123,\n",
       " 'their': 124,\n",
       " 'gt': 125,\n",
       " 'go': 126,\n",
       " '4': 127,\n",
       " 'train': 128,\n",
       " 'full': 129,\n",
       " 'life': 130,\n",
       " 'war': 131,\n",
       " 'old': 132,\n",
       " 'hiroshima': 133,\n",
       " 'today': 134,\n",
       " '5': 135,\n",
       " 'accident': 136,\n",
       " 'car': 137,\n",
       " 'only': 138,\n",
       " 'down': 139,\n",
       " 'being': 140,\n",
       " 'families': 141,\n",
       " 'good': 142,\n",
       " 'here': 143,\n",
       " \"can't\": 144,\n",
       " 'may': 145,\n",
       " 'think': 146,\n",
       " '2015': 147,\n",
       " 'watch': 148,\n",
       " 'say': 149,\n",
       " 'many': 150,\n",
       " 'last': 151,\n",
       " 'could': 152,\n",
       " 'did': 153,\n",
       " 'home': 154,\n",
       " 'way': 155,\n",
       " 'its': 156,\n",
       " 'years': 157,\n",
       " 'want': 158,\n",
       " 'then': 159,\n",
       " 'too': 160,\n",
       " 'w': 161,\n",
       " 'make': 162,\n",
       " 'collapse': 163,\n",
       " 'work': 164,\n",
       " 'because': 165,\n",
       " 'best': 166,\n",
       " 'look': 167,\n",
       " 'mass': 168,\n",
       " 'help': 169,\n",
       " 'please': 170,\n",
       " 'another': 171,\n",
       " 'even': 172,\n",
       " 'need': 173,\n",
       " 'take': 174,\n",
       " 'really': 175,\n",
       " 'death': 176,\n",
       " 'army': 177,\n",
       " 'mh370': 178,\n",
       " 'am': 179,\n",
       " 'lol': 180,\n",
       " 'bombing': 181,\n",
       " 'wildfire': 182,\n",
       " 'black': 183,\n",
       " 'him': 184,\n",
       " 'right': 185,\n",
       " 'should': 186,\n",
       " 'those': 187,\n",
       " \"you're\": 188,\n",
       " 'fatal': 189,\n",
       " 'hot': 190,\n",
       " '\\x89û': 191,\n",
       " '8': 192,\n",
       " 'school': 193,\n",
       " 'forest': 194,\n",
       " 'much': 195,\n",
       " '11': 196,\n",
       " 'obama': 197,\n",
       " 'pm': 198,\n",
       " 'never': 199,\n",
       " 'let': 200,\n",
       " 'live': 201,\n",
       " 'northern': 202,\n",
       " 'city': 203,\n",
       " '9': 204,\n",
       " 'she': 205,\n",
       " 'wreck': 206,\n",
       " 'great': 207,\n",
       " '6': 208,\n",
       " 'any': 209,\n",
       " 'latest': 210,\n",
       " 'every': 211,\n",
       " 'read': 212,\n",
       " 'god': 213,\n",
       " 'atomic': 214,\n",
       " 'homes': 215,\n",
       " 'bomber': 216,\n",
       " 'said': 217,\n",
       " 'where': 218,\n",
       " 'flames': 219,\n",
       " 'fear': 220,\n",
       " 'typhoon': 221,\n",
       " 'im': 222,\n",
       " 'ever': 223,\n",
       " 'under': 224,\n",
       " 'injured': 225,\n",
       " 'floods': 226,\n",
       " 'shit': 227,\n",
       " 'come': 228,\n",
       " 'feel': 229,\n",
       " 'japan': 230,\n",
       " 'while': 231,\n",
       " 'top': 232,\n",
       " 'near': 233,\n",
       " 'damage': 234,\n",
       " 'getting': 235,\n",
       " 'most': 236,\n",
       " 'hit': 237,\n",
       " \"that's\": 238,\n",
       " 'since': 239,\n",
       " 'cross': 240,\n",
       " 'flood': 241,\n",
       " 'before': 242,\n",
       " 'hope': 243,\n",
       " 'military': 244,\n",
       " 'content': 245,\n",
       " 'oil': 246,\n",
       " 'stop': 247,\n",
       " 'found': 248,\n",
       " 'during': 249,\n",
       " '10': 250,\n",
       " 'ass': 251,\n",
       " 'night': 252,\n",
       " 'next': 253,\n",
       " 'truck': 254,\n",
       " 'everyone': 255,\n",
       " 'coming': 256,\n",
       " 'weather': 257,\n",
       " 'these': 258,\n",
       " '15': 259,\n",
       " 'debris': 260,\n",
       " 'times': 261,\n",
       " 'which': 262,\n",
       " 'wild': 263,\n",
       " 'without': 264,\n",
       " 'set': 265,\n",
       " 'state': 266,\n",
       " 'well': 267,\n",
       " 'movie': 268,\n",
       " 'lightning': 269,\n",
       " 'plan': 270,\n",
       " 'malaysia': 271,\n",
       " 'check': 272,\n",
       " '08': 273,\n",
       " 'face': 274,\n",
       " 'through': 275,\n",
       " 'smoke': 276,\n",
       " 'm': 277,\n",
       " 'water': 278,\n",
       " 'thunderstorm': 279,\n",
       " 'always': 280,\n",
       " 'fucking': 281,\n",
       " 'explosion': 282,\n",
       " 'looks': 283,\n",
       " 'run': 284,\n",
       " 'area': 285,\n",
       " 'made': 286,\n",
       " 'wounded': 287,\n",
       " 'sinking': 288,\n",
       " 'flooding': 289,\n",
       " 'evacuation': 290,\n",
       " 'little': 291,\n",
       " 'cause': 292,\n",
       " 'services': 293,\n",
       " 'high': 294,\n",
       " 'bad': 295,\n",
       " '7': 296,\n",
       " 'says': 297,\n",
       " 'heat': 298,\n",
       " 'natural': 299,\n",
       " 'severe': 300,\n",
       " 'thunder': 301,\n",
       " 'earthquake': 302,\n",
       " 'also': 303,\n",
       " 'bloody': 304,\n",
       " 'family': 305,\n",
       " '70': 306,\n",
       " 'change': 307,\n",
       " 'liked': 308,\n",
       " 'hail': 309,\n",
       " 'fall': 310,\n",
       " 'hurricane': 311,\n",
       " 'rain': 312,\n",
       " 'devastated': 313,\n",
       " 'reddit': 314,\n",
       " 'head': 315,\n",
       " 'until': 316,\n",
       " 'injury': 317,\n",
       " 'free': 318,\n",
       " 'house': 319,\n",
       " 'red': 320,\n",
       " 'again': 321,\n",
       " 'weapon': 322,\n",
       " 'weapons': 323,\n",
       " 'spill': 324,\n",
       " 'injuries': 325,\n",
       " 'refugees': 326,\n",
       " 'loud': 327,\n",
       " 'screaming': 328,\n",
       " 'p': 329,\n",
       " 'air': 330,\n",
       " 'blood': 331,\n",
       " 'photo': 332,\n",
       " 'wind': 333,\n",
       " 'bags': 334,\n",
       " 'evacuate': 335,\n",
       " 'trapped': 336,\n",
       " 'rescue': 337,\n",
       " 'fatalities': 338,\n",
       " 'summer': 339,\n",
       " 'end': 340,\n",
       " 'murder': 341,\n",
       " 'gonna': 342,\n",
       " 'destroy': 343,\n",
       " 'warning': 344,\n",
       " 'girl': 345,\n",
       " 'big': 346,\n",
       " 'missing': 347,\n",
       " 'attacked': 348,\n",
       " 'derailment': 349,\n",
       " 'failure': 350,\n",
       " 'collision': 351,\n",
       " 'panic': 352,\n",
       " 'sinkhole': 353,\n",
       " 'around': 354,\n",
       " '40': 355,\n",
       " 'someone': 356,\n",
       " 'ambulance': 357,\n",
       " \"he's\": 358,\n",
       " 'whole': 359,\n",
       " 'destruction': 360,\n",
       " 'boy': 361,\n",
       " 'destroyed': 362,\n",
       " 'real': 363,\n",
       " 'terrorism': 364,\n",
       " 'post': 365,\n",
       " 'released': 366,\n",
       " 'bag': 367,\n",
       " 'explode': 368,\n",
       " 'hazard': 369,\n",
       " 'harm': 370,\n",
       " 'collided': 371,\n",
       " 'wreckage': 372,\n",
       " 'outbreak': 373,\n",
       " '\\x89ûò': 374,\n",
       " 'burned': 375,\n",
       " 'does': 376,\n",
       " 'game': 377,\n",
       " \"i've\": 378,\n",
       " 'survivors': 379,\n",
       " 'survive': 380,\n",
       " '05': 381,\n",
       " 'charged': 382,\n",
       " 'terrorist': 383,\n",
       " 'battle': 384,\n",
       " 'keep': 385,\n",
       " 'report': 386,\n",
       " 'bridge': 387,\n",
       " 'drought': 388,\n",
       " 'deaths': 389,\n",
       " 'migrants': 390,\n",
       " 'twister': 391,\n",
       " 'wrecked': 392,\n",
       " 'd': 393,\n",
       " 'week': 394,\n",
       " 'tonight': 395,\n",
       " 'road': 396,\n",
       " 'o': 397,\n",
       " 'trauma': 398,\n",
       " 'call': 399,\n",
       " 'self': 400,\n",
       " 'away': 401,\n",
       " 'against': 402,\n",
       " 'white': 403,\n",
       " 'fuck': 404,\n",
       " 'bombed': 405,\n",
       " 'rescuers': 406,\n",
       " 'displaced': 407,\n",
       " 'boat': 408,\n",
       " 'ruin': 409,\n",
       " 'service': 410,\n",
       " 'rescued': 411,\n",
       " 'crush': 412,\n",
       " 'survived': 413,\n",
       " 'dust': 414,\n",
       " 'windstorm': 415,\n",
       " 'n': 416,\n",
       " 'crashed': 417,\n",
       " 'ok': 418,\n",
       " 'august': 419,\n",
       " 'things': 420,\n",
       " 'story': 421,\n",
       " 'saudi': 422,\n",
       " 'twitter': 423,\n",
       " 'put': 424,\n",
       " 'show': 425,\n",
       " 'update': 426,\n",
       " 'lives': 427,\n",
       " 'riot': 428,\n",
       " 'hazardous': 429,\n",
       " 'curfew': 430,\n",
       " 'danger': 431,\n",
       " 'massacre': 432,\n",
       " 'structural': 433,\n",
       " 'whirlwind': 434,\n",
       " 'breaking': 435,\n",
       " 'least': 436,\n",
       " '30': 437,\n",
       " 'came': 438,\n",
       " 'island': 439,\n",
       " 'suspect': 440,\n",
       " 'phone': 441,\n",
       " \"there's\": 442,\n",
       " 'long': 443,\n",
       " '0': 444,\n",
       " 'saw': 445,\n",
       " 'hostage': 446,\n",
       " 'wanna': 447,\n",
       " 'county': 448,\n",
       " 'tragedy': 449,\n",
       " 'half': 450,\n",
       " 'traumatised': 451,\n",
       " 'catastrophe': 452,\n",
       " 'chemical': 453,\n",
       " 'collapsed': 454,\n",
       " 'landslide': 455,\n",
       " 'bus': 456,\n",
       " 'deluge': 457,\n",
       " 'derailed': 458,\n",
       " 'devastation': 459,\n",
       " 'screamed': 460,\n",
       " 'famine': 461,\n",
       " 'investigators': 462,\n",
       " 'hostages': 463,\n",
       " 'quarantined': 464,\n",
       " 'sandstorm': 465,\n",
       " 'sunk': 466,\n",
       " 'better': 467,\n",
       " 'horrible': 468,\n",
       " 'past': 469,\n",
       " 'airplane': 470,\n",
       " 'other': 471,\n",
       " 'national': 472,\n",
       " 'apocalypse': 473,\n",
       " 'heart': 474,\n",
       " 'violent': 475,\n",
       " 'woman': 476,\n",
       " 'power': 477,\n",
       " 'women': 478,\n",
       " 'oh': 479,\n",
       " 'bleeding': 480,\n",
       " 'blown': 481,\n",
       " 'anniversary': 482,\n",
       " 'rioting': 483,\n",
       " 'casualties': 484,\n",
       " 'stock': 485,\n",
       " 'derail': 486,\n",
       " 'desolation': 487,\n",
       " 'drowning': 488,\n",
       " 'engulfed': 489,\n",
       " 'inundated': 490,\n",
       " \"i'll\": 491,\n",
       " 'meltdown': 492,\n",
       " 'thing': 493,\n",
       " 'plane': 494,\n",
       " 'kills': 495,\n",
       " 'iran': 496,\n",
       " 'save': 497,\n",
       " 'b': 498,\n",
       " 'part': 499,\n",
       " 'fedex': 500,\n",
       " 'light': 501,\n",
       " 'catastrophic': 502,\n",
       " 'cliff': 503,\n",
       " 'wounds': 504,\n",
       " 'hundreds': 505,\n",
       " 'electrocuted': 506,\n",
       " 'fatality': 507,\n",
       " 'flattened': 508,\n",
       " 'lava': 509,\n",
       " 'bang': 510,\n",
       " 'quarantine': 511,\n",
       " 'screams': 512,\n",
       " 'st': 513,\n",
       " 'something': 514,\n",
       " 'use': 515,\n",
       " 'thank': 516,\n",
       " 'heard': 517,\n",
       " \"'the\": 518,\n",
       " 'ebay': 519,\n",
       " 'lot': 520,\n",
       " 'must': 521,\n",
       " 'went': 522,\n",
       " 'food': 523,\n",
       " 'zone': 524,\n",
       " 'soon': 525,\n",
       " 'armageddon': 526,\n",
       " 'group': 527,\n",
       " 'blew': 528,\n",
       " 'drown': 529,\n",
       " 'land': 530,\n",
       " 'bagging': 531,\n",
       " 'caused': 532,\n",
       " 'affected': 533,\n",
       " 'wave': 534,\n",
       " 'trouble': 535,\n",
       " 'tsunami': 536,\n",
       " 'exploded': 537,\n",
       " 'hellfire': 538,\n",
       " 'hijacker': 539,\n",
       " 'pandemonium': 540,\n",
       " 'panicking': 541,\n",
       " 'left': 542,\n",
       " 'minute': 543,\n",
       " 'sure': 544,\n",
       " 'river': 545,\n",
       " 'bioterror': 546,\n",
       " 'blazing': 547,\n",
       " 'market': 548,\n",
       " 'send': 549,\n",
       " 'baby': 550,\n",
       " \"legionnaires'\": 551,\n",
       " 'tornado': 552,\n",
       " 'evacuated': 553,\n",
       " 'hijacking': 554,\n",
       " 'rainstorm': 555,\n",
       " 'razed': 556,\n",
       " 'care': 557,\n",
       " 'r': 558,\n",
       " 'traffic': 559,\n",
       " 'very': 560,\n",
       " 'doing': 561,\n",
       " 'reunion': 562,\n",
       " 'goes': 563,\n",
       " 'government': 564,\n",
       " 'thought': 565,\n",
       " 'kill': 566,\n",
       " 'tomorrow': 567,\n",
       " 'india': 568,\n",
       " 'longer': 569,\n",
       " 'cool': 570,\n",
       " 'song': 571,\n",
       " '00': 572,\n",
       " 'casualty': 573,\n",
       " 'collide': 574,\n",
       " 'crushed': 575,\n",
       " 'demolish': 576,\n",
       " 'demolition': 577,\n",
       " 'detonation': 578,\n",
       " 'drowned': 579,\n",
       " 'murderer': 580,\n",
       " 'obliterated': 581,\n",
       " 'used': 582,\n",
       " 'due': 583,\n",
       " 'kids': 584,\n",
       " 'possible': 585,\n",
       " 'same': 586,\n",
       " 'airport': 587,\n",
       " 'annihilated': 588,\n",
       " 'fan': 589,\n",
       " 'arson': 590,\n",
       " 'sound': 591,\n",
       " 'mosque': 592,\n",
       " 'officials': 593,\n",
       " 'music': 594,\n",
       " 'beautiful': 595,\n",
       " 'calgary': 596,\n",
       " 'security': 597,\n",
       " 'c': 598,\n",
       " 'nothing': 599,\n",
       " 'shoulder': 600,\n",
       " 'pkk': 601,\n",
       " 'responders': 602,\n",
       " 'officer': 603,\n",
       " 'isis': 604,\n",
       " 'blast': 605,\n",
       " 'demolished': 606,\n",
       " 'volcano': 607,\n",
       " 'prebreak': 608,\n",
       " 'mudslide': 609,\n",
       " 'obliterate': 610,\n",
       " 'thanks': 611,\n",
       " 'building': 612,\n",
       " 'south': 613,\n",
       " 'few': 614,\n",
       " 'issues': 615,\n",
       " 'already': 616,\n",
       " 'making': 617,\n",
       " 'done': 618,\n",
       " 'believe': 619,\n",
       " 'lt': 620,\n",
       " 'hours': 621,\n",
       " 'fight': 622,\n",
       " 'start': 623,\n",
       " 'stay': 624,\n",
       " 'yet': 625,\n",
       " 'media': 626,\n",
       " 'remember': 627,\n",
       " '50': 628,\n",
       " 'e': 629,\n",
       " 'ur': 630,\n",
       " 'cyclone': 631,\n",
       " 'detonate': 632,\n",
       " 'electrocute': 633,\n",
       " 'eyewitness': 634,\n",
       " 'obliteration': 635,\n",
       " 'detonated': 636,\n",
       " 'upheaval': 637,\n",
       " 'ablaze': 638,\n",
       " 'leave': 639,\n",
       " '16': 640,\n",
       " 'shooting': 641,\n",
       " 'actually': 642,\n",
       " 'men': 643,\n",
       " 'wake': 644,\n",
       " 'fun': 645,\n",
       " 'israeli': 646,\n",
       " 'person': 647,\n",
       " 'having': 648,\n",
       " 'bioterrorism': 649,\n",
       " 'blight': 650,\n",
       " 'policy': 651,\n",
       " 'such': 652,\n",
       " 'mp': 653,\n",
       " 'days': 654,\n",
       " 'three': 655,\n",
       " 'legionnaires': 656,\n",
       " 'hijack': 657,\n",
       " 'sue': 658,\n",
       " 'siren': 659,\n",
       " 'inside': 660,\n",
       " 'shot': 661,\n",
       " 'north': 662,\n",
       " 'support': 663,\n",
       " 'died': 664,\n",
       " 'die': 665,\n",
       " 'play': 666,\n",
       " 'stand': 667,\n",
       " 'peace': 668,\n",
       " 'far': 669,\n",
       " 'trying': 670,\n",
       " 'lab': 671,\n",
       " 'health': 672,\n",
       " 'yes': 673,\n",
       " 're\\x89û': 674,\n",
       " 'words': 675,\n",
       " 'turkey': 676,\n",
       " 'bush': 677,\n",
       " 'deluged': 678,\n",
       " 'declares': 679,\n",
       " 'reactor': 680,\n",
       " '16yr': 681,\n",
       " '\\x89ûó': 682,\n",
       " 'site': 683,\n",
       " 'nowplaying': 684,\n",
       " '06': 685,\n",
       " 'plans': 686,\n",
       " 'gets': 687,\n",
       " 'yourself': 688,\n",
       " 'brown': 689,\n",
       " 'ago': 690,\n",
       " 'sirens': 691,\n",
       " 'horror': 692,\n",
       " 'order': 693,\n",
       " \"i'd\": 694,\n",
       " 'children': 695,\n",
       " 'anything': 696,\n",
       " 'guys': 697,\n",
       " 'both': 698,\n",
       " \"doesn't\": 699,\n",
       " 'pic': 700,\n",
       " 'line': 701,\n",
       " 'low': 702,\n",
       " 'find': 703,\n",
       " 'nearby': 704,\n",
       " '25': 705,\n",
       " 'seismic': 706,\n",
       " 'islam': 707,\n",
       " 'rubble': 708,\n",
       " 'swallowed': 709,\n",
       " 'stretcher': 710,\n",
       " 'outside': 711,\n",
       " 'wait': 712,\n",
       " 'tell': 713,\n",
       " 'job': 714,\n",
       " 'almost': 715,\n",
       " 'helicopter': 716,\n",
       " 'history': 717,\n",
       " 'bc': 718,\n",
       " 'data': 719,\n",
       " 'own': 720,\n",
       " 'business': 721,\n",
       " 'yeah': 722,\n",
       " 'deal': 723,\n",
       " 'abc': 724,\n",
       " 'photos': 725,\n",
       " 'watching': 726,\n",
       " 'memories': 727,\n",
       " '01': 728,\n",
       " 'saipan': 729,\n",
       " 'snowstorm': 730,\n",
       " \"'conclusively\": 731,\n",
       " \"confirmed'\": 732,\n",
       " 'west': 733,\n",
       " 'happy': 734,\n",
       " 'center': 735,\n",
       " \"didn't\": 736,\n",
       " 'second': 737,\n",
       " 'book': 738,\n",
       " 'anyone': 739,\n",
       " 'aircraft': 740,\n",
       " \"what's\": 741,\n",
       " 'hey': 742,\n",
       " 'bar': 743,\n",
       " 'hell': 744,\n",
       " 'maybe': 745,\n",
       " 'pick': 746,\n",
       " 'tv': 747,\n",
       " 'american': 748,\n",
       " 'makes': 749,\n",
       " 'literally': 750,\n",
       " 'avalanche': 751,\n",
       " 'transport': 752,\n",
       " 'searching': 753,\n",
       " 'blizzard': 754,\n",
       " 'bigger': 755,\n",
       " 'rise': 756,\n",
       " 'x': 757,\n",
       " 'hear': 758,\n",
       " 'waves': 759,\n",
       " 'bodies': 760,\n",
       " 'desolate': 761,\n",
       " 'hat': 762,\n",
       " 'bestnaijamade': 763,\n",
       " 'rd': 764,\n",
       " 'property': 765,\n",
       " 'might': 766,\n",
       " 'eyes': 767,\n",
       " 'reuters': 768,\n",
       " 'pakistan': 769,\n",
       " 'place': 770,\n",
       " 'amid': 771,\n",
       " 'damn': 772,\n",
       " 'team': 773,\n",
       " 'feeling': 774,\n",
       " 'listen': 775,\n",
       " 'space': 776,\n",
       " 'hollywood': 777,\n",
       " 'pretty': 778,\n",
       " 'move': 779,\n",
       " 'online': 780,\n",
       " 'though': 781,\n",
       " 'morning': 782,\n",
       " 'money': 783,\n",
       " 'probably': 784,\n",
       " 'aug': 785,\n",
       " 'saved': 786,\n",
       " 'trains': 787,\n",
       " 'signs': 788,\n",
       " 'effect': 789,\n",
       " 'manslaughter': 790,\n",
       " 'projected': 791,\n",
       " 'side': 792,\n",
       " 'arsonist': 793,\n",
       " 'mom': 794,\n",
       " 'finally': 795,\n",
       " 'once': 796,\n",
       " 'wrong': 797,\n",
       " 'feared': 798,\n",
       " '17': 799,\n",
       " 'hate': 800,\n",
       " 'everything': 801,\n",
       " 'country': 802,\n",
       " 'seen': 803,\n",
       " 'annihilation': 804,\n",
       " \"we're\": 805,\n",
       " 'major': 806,\n",
       " 'child': 807,\n",
       " 'crisis': 808,\n",
       " 'leather': 809,\n",
       " 'control': 810,\n",
       " 'caught': 811,\n",
       " 'blaze': 812,\n",
       " 'okay': 813,\n",
       " 'youth': 814,\n",
       " 'spot': 815,\n",
       " 'lost': 816,\n",
       " 'myself': 817,\n",
       " 'crews': 818,\n",
       " 'confirmed': 819,\n",
       " 'soudelor': 820,\n",
       " 'image': 821,\n",
       " 'sensor': 822,\n",
       " 'hailstorm': 823,\n",
       " 'miners': 824,\n",
       " 'flag': 825,\n",
       " 'cars': 826,\n",
       " 'lord': 827,\n",
       " 'vehicle': 828,\n",
       " 'fast': 829,\n",
       " 'aftershock': 830,\n",
       " 'daily': 831,\n",
       " 'guy': 832,\n",
       " 'jobs': 833,\n",
       " \"they're\": 834,\n",
       " 'ship': 835,\n",
       " '12': 836,\n",
       " 'crazy': 837,\n",
       " 'street': 838,\n",
       " 'sorry': 839,\n",
       " 'ball': 840,\n",
       " 'case': 841,\n",
       " 'usa': 842,\n",
       " 'called': 843,\n",
       " 'name': 844,\n",
       " 'class': 845,\n",
       " 'town': 846,\n",
       " 'texas': 847,\n",
       " '20': 848,\n",
       " 'worst': 849,\n",
       " 'needs': 850,\n",
       " 'fukushima': 851,\n",
       " 'nearly': 852,\n",
       " 'wow': 853,\n",
       " 'russian': 854,\n",
       " 'angry': 855,\n",
       " 'course': 856,\n",
       " 'banned': 857,\n",
       " 'knock': 858,\n",
       " 'picking': 859,\n",
       " 'trench': 860,\n",
       " 'mayhem': 861,\n",
       " 'refugio': 862,\n",
       " 'costlier': 863,\n",
       " 'others': 864,\n",
       " 'huge': 865,\n",
       " 'talk': 866,\n",
       " 'win': 867,\n",
       " 'official': 868,\n",
       " \"she's\": 869,\n",
       " 'sign': 870,\n",
       " 'poor': 871,\n",
       " 'action': 872,\n",
       " 'toddler': 873,\n",
       " 'united': 874,\n",
       " \"isn't\": 875,\n",
       " 'east': 876,\n",
       " 'gun': 877,\n",
       " 'anthrax': 878,\n",
       " 'running': 879,\n",
       " 'computers': 880,\n",
       " 'dont': 881,\n",
       " 'follow': 882,\n",
       " 'entire': 883,\n",
       " 'meek': 884,\n",
       " 'giant': 885,\n",
       " '60': 886,\n",
       " 'gbbo': 887,\n",
       " 'houses': 888,\n",
       " 'chance': 889,\n",
       " 'bbc': 890,\n",
       " 'uk': 891,\n",
       " 'ignition': 892,\n",
       " 'offensive': 893,\n",
       " 'try': 894,\n",
       " 'heavy': 895,\n",
       " 'wanted': 896,\n",
       " 'chicago': 897,\n",
       " 'alone': 898,\n",
       " 'hard': 899,\n",
       " 'yours': 900,\n",
       " \"'i\": 901,\n",
       " 'america': 902,\n",
       " 'closed': 903,\n",
       " 'happened': 904,\n",
       " 'omg': 905,\n",
       " 'across': 906,\n",
       " 'radio': 907,\n",
       " 'totally': 908,\n",
       " 'reason': 909,\n",
       " '100': 910,\n",
       " 'learn': 911,\n",
       " 'truth': 912,\n",
       " 'beach': 913,\n",
       " 'ca': 914,\n",
       " 'reports': 915,\n",
       " 'christian': 916,\n",
       " 'muslims': 917,\n",
       " 'temple': 918,\n",
       " 'mount': 919,\n",
       " '13': 920,\n",
       " 'view': 921,\n",
       " 'eye': 922,\n",
       " 'taken': 923,\n",
       " 'playing': 924,\n",
       " 'mishaps': 925,\n",
       " 'public': 926,\n",
       " 'mad': 927,\n",
       " \"let's\": 928,\n",
       " 'haha': 929,\n",
       " 'cake': 930,\n",
       " 'level': 931,\n",
       " 'link': 932,\n",
       " 'ladies': 933,\n",
       " 'appears': 934,\n",
       " 'centre': 935,\n",
       " 'village': 936,\n",
       " 'alarm': 937,\n",
       " 'friends': 938,\n",
       " 'takes': 939,\n",
       " 'flash': 940,\n",
       " 'china': 941,\n",
       " 'emmerdale': 942,\n",
       " \"'we're\": 943,\n",
       " 'la': 944,\n",
       " 'become': 945,\n",
       " 'cnn': 946,\n",
       " 'declaration': 947,\n",
       " 'disea': 948,\n",
       " 'front': 949,\n",
       " 'climate': 950,\n",
       " 'else': 951,\n",
       " '24': 952,\n",
       " 'drive': 953,\n",
       " 'global': 954,\n",
       " 'experts': 955,\n",
       " 'france': 956,\n",
       " 'dog': 957,\n",
       " 'vs': 958,\n",
       " 'film': 959,\n",
       " 'till': 960,\n",
       " 'friend': 961,\n",
       " 'blue': 962,\n",
       " 'green': 963,\n",
       " 'driving': 964,\n",
       " 'favorite': 965,\n",
       " 'star': 966,\n",
       " 'germs': 967,\n",
       " 'looking': 968,\n",
       " 'pain': 969,\n",
       " \"ain't\": 970,\n",
       " 'large': 971,\n",
       " 'womens': 972,\n",
       " 'drake': 973,\n",
       " 'marks': 974,\n",
       " 'downtown': 975,\n",
       " 'insurance': 976,\n",
       " 'mph': 977,\n",
       " 'instead': 978,\n",
       " 'coaches': 979,\n",
       " 'sea': 980,\n",
       " 'issued': 981,\n",
       " 'flight': 982,\n",
       " 'quiz': 983,\n",
       " \"reddit's\": 984,\n",
       " \"water'\": 985,\n",
       " 'virgin': 986,\n",
       " 'chile': 987,\n",
       " 'bring': 988,\n",
       " 'thousands': 989,\n",
       " 'reported': 990,\n",
       " '18': 991,\n",
       " 'dies': 992,\n",
       " 'turned': 993,\n",
       " 'moment': 994,\n",
       " 'behind': 995,\n",
       " 'four': 996,\n",
       " 'early': 997,\n",
       " 'couple': 998,\n",
       " '\\x89ûï': 999,\n",
       " 'trust': 1000,\n",
       " ...}"
      ]
     },
     "execution_count": 22,
     "metadata": {
      "tags": []
     },
     "output_type": "execute_result"
    }
   ],
   "source": [
    "# Attributes of tokenizer\n",
    "token.word_index"
   ]
  },
  {
   "cell_type": "code",
   "execution_count": 23,
   "metadata": {
    "colab": {
     "base_uri": "https://localhost:8080/",
     "height": 204
    },
    "id": "TzoliOuYBS0K",
    "outputId": "074fb279-2a18-446c-c195-54fea5df4bbf"
   },
   "outputs": [
    {
     "data": {
      "text/html": [
       "<div>\n",
       "<style scoped>\n",
       "    .dataframe tbody tr th:only-of-type {\n",
       "        vertical-align: middle;\n",
       "    }\n",
       "\n",
       "    .dataframe tbody tr th {\n",
       "        vertical-align: top;\n",
       "    }\n",
       "\n",
       "    .dataframe thead th {\n",
       "        text-align: right;\n",
       "    }\n",
       "</style>\n",
       "<table border=\"1\" class=\"dataframe\">\n",
       "  <thead>\n",
       "    <tr style=\"text-align: right;\">\n",
       "      <th></th>\n",
       "      <th>id</th>\n",
       "      <th>keyword</th>\n",
       "      <th>text</th>\n",
       "      <th>target</th>\n",
       "      <th>cleaned_text</th>\n",
       "      <th>tokenized_text</th>\n",
       "    </tr>\n",
       "  </thead>\n",
       "  <tbody>\n",
       "    <tr>\n",
       "      <th>31</th>\n",
       "      <td>48</td>\n",
       "      <td>ablaze</td>\n",
       "      <td>@bbcmtd Wholesale Markets ablaze http://t.co/l...</td>\n",
       "      <td>1</td>\n",
       "      <td>@bbcmtd wholesale market ablaze</td>\n",
       "      <td>[6920, 2910, 548, 638]</td>\n",
       "    </tr>\n",
       "    <tr>\n",
       "      <th>32</th>\n",
       "      <td>49</td>\n",
       "      <td>ablaze</td>\n",
       "      <td>We always try to bring the heavy. #metal #RT h...</td>\n",
       "      <td>0</td>\n",
       "      <td>-PRON- try bring # metal # rt</td>\n",
       "      <td>[894, 988, 1213, 102]</td>\n",
       "    </tr>\n",
       "    <tr>\n",
       "      <th>33</th>\n",
       "      <td>50</td>\n",
       "      <td>ablaze</td>\n",
       "      <td>#AFRICANBAZE: Breaking news:Nigeria flag set a...</td>\n",
       "      <td>1</td>\n",
       "      <td># africanbaze : break flag set ablaze</td>\n",
       "      <td>[6923, 1091, 825, 265, 638]</td>\n",
       "    </tr>\n",
       "    <tr>\n",
       "      <th>34</th>\n",
       "      <td>52</td>\n",
       "      <td>ablaze</td>\n",
       "      <td>Crying out for more! Set me ablaze</td>\n",
       "      <td>0</td>\n",
       "      <td>cry set -PRON- ablaze</td>\n",
       "      <td>[2344, 265, 638]</td>\n",
       "    </tr>\n",
       "    <tr>\n",
       "      <th>35</th>\n",
       "      <td>53</td>\n",
       "      <td>ablaze</td>\n",
       "      <td>On plus side LOOK AT THE SKY LAST NIGHT IT WAS...</td>\n",
       "      <td>0</td>\n",
       "      <td>plus look sky night -PRON- ablaze</td>\n",
       "      <td>[1743, 167, 1100, 252, 638]</td>\n",
       "    </tr>\n",
       "  </tbody>\n",
       "</table>\n",
       "</div>"
      ],
      "text/plain": [
       "    id  ...               tokenized_text\n",
       "31  48  ...       [6920, 2910, 548, 638]\n",
       "32  49  ...        [894, 988, 1213, 102]\n",
       "33  50  ...  [6923, 1091, 825, 265, 638]\n",
       "34  52  ...             [2344, 265, 638]\n",
       "35  53  ...  [1743, 167, 1100, 252, 638]\n",
       "\n",
       "[5 rows x 6 columns]"
      ]
     },
     "execution_count": 23,
     "metadata": {
      "tags": []
     },
     "output_type": "execute_result"
    }
   ],
   "source": [
    "# Encoding the words of the text\n",
    "train['tokenized_text'] = token.texts_to_sequences(train['cleaned_text'])\n",
    "train.head()"
   ]
  },
  {
   "cell_type": "code",
   "execution_count": 24,
   "metadata": {
    "colab": {
     "base_uri": "https://localhost:8080/",
     "height": 336
    },
    "id": "w9CZYutkCYoW",
    "outputId": "294048c4-51b9-4135-a3e9-f89fdbab5f8f"
   },
   "outputs": [
    {
     "name": "stderr",
     "output_type": "stream",
     "text": [
      "/usr/local/lib/python3.7/dist-packages/seaborn/distributions.py:2557: FutureWarning: `distplot` is a deprecated function and will be removed in a future version. Please adapt your code to use either `displot` (a figure-level function with similar flexibility) or `histplot` (an axes-level function for histograms).\n",
      "  warnings.warn(msg, FutureWarning)\n"
     ]
    },
    {
     "data": {
      "text/plain": [
       "<matplotlib.axes._subplots.AxesSubplot at 0x7f49000f6dd0>"
      ]
     },
     "execution_count": 24,
     "metadata": {
      "tags": []
     },
     "output_type": "execute_result"
    },
    {
     "data": {
      "image/png": "[encoded data removed]",
      "text/plain": [
       "<Figure size 432x288 with 1 Axes>"
      ]
     },
     "metadata": {
      "needs_background": "light",
      "tags": []
     },
     "output_type": "display_data"
    }
   ],
   "source": [
    "# Plotting the distribution of our vocabulary\n",
    "sns.distplot([len(i) for i in train['text']])"
   ]
  },
  {
   "cell_type": "markdown",
   "metadata": {
    "id": "XfUzq1L1D74C"
   },
   "source": [
    "The biggest length of a tweet is with 150 words, so we will set this as the maximum length of the pad sequences."
   ]
  },
  {
   "cell_type": "code",
   "execution_count": 25,
   "metadata": {
    "id": "HsHYP9GJDvg9"
   },
   "outputs": [],
   "source": [
    "# Creating pad sequence for every tweet\n",
    "text_pad = tf.keras.preprocessing.sequence.pad_sequences(train[\"tokenized_text\"], padding=\"post\", maxlen = 150)"
   ]
  },
  {
   "cell_type": "code",
   "execution_count": 26,
   "metadata": {
    "colab": {
     "base_uri": "https://localhost:8080/"
    },
    "id": "Zhjz1a0UIa0f",
    "outputId": "7c5096b5-e7d0-483c-cfb8-1d4c27164402"
   },
   "outputs": [
    {
     "data": {
      "text/plain": [
       "(7552, 150)"
      ]
     },
     "execution_count": 26,
     "metadata": {
      "tags": []
     },
     "output_type": "execute_result"
    }
   ],
   "source": [
    "# Returing the shape of the pad sequence \n",
    "text_pad.shape"
   ]
  },
  {
   "cell_type": "code",
   "execution_count": 27,
   "metadata": {
    "colab": {
     "base_uri": "https://localhost:8080/"
    },
    "id": "vlYALcW7I3-U",
    "outputId": "f5cb5204-204b-4d1c-fcf1-158bec77e1c3"
   },
   "outputs": [
    {
     "data": {
      "text/plain": [
       "array([6920, 2910,  548,  638,    0,    0,    0,    0,    0,    0,    0,\n",
       "          0,    0,    0,    0,    0,    0,    0,    0,    0,    0,    0,\n",
       "          0,    0,    0,    0,    0,    0,    0,    0,    0,    0,    0,\n",
       "          0,    0,    0,    0,    0,    0,    0,    0,    0,    0,    0,\n",
       "          0,    0,    0,    0,    0,    0,    0,    0,    0,    0,    0,\n",
       "          0,    0,    0,    0,    0,    0,    0,    0,    0,    0,    0,\n",
       "          0,    0,    0,    0,    0,    0,    0,    0,    0,    0,    0,\n",
       "          0,    0,    0,    0,    0,    0,    0,    0,    0,    0,    0,\n",
       "          0,    0,    0,    0,    0,    0,    0,    0,    0,    0,    0,\n",
       "          0,    0,    0,    0,    0,    0,    0,    0,    0,    0,    0,\n",
       "          0,    0,    0,    0,    0,    0,    0,    0,    0,    0,    0,\n",
       "          0,    0,    0,    0,    0,    0,    0,    0,    0,    0,    0,\n",
       "          0,    0,    0,    0,    0,    0,    0,    0,    0,    0,    0,\n",
       "          0,    0,    0,    0,    0,    0,    0], dtype=int32)"
      ]
     },
     "execution_count": 27,
     "metadata": {
      "tags": []
     },
     "output_type": "execute_result"
    }
   ],
   "source": [
    "# First element of the pad sequence\n",
    "text_pad[0]"
   ]
  },
  {
   "cell_type": "code",
   "execution_count": 30,
   "metadata": {
    "id": "IVCLtUV4CzPL"
   },
   "outputs": [],
   "source": [
    "# Creating tensor dataset\n",
    "df = tf.data.Dataset.from_tensor_slices((text_pad, train.target.values))"
   ]
  },
  {
   "cell_type": "code",
   "execution_count": 31,
   "metadata": {
    "id": "8AIzOB0qDlDd"
   },
   "outputs": [],
   "source": [
    "BATCH_SIZE = 32\n",
    "TAKE_SIZE = int(len(train[\"target\"])*0.8)\n",
    "\n",
    "# Shuffeling the dataset\n",
    "df = df.shuffle(len(train[\"target\"]))\n",
    "\n",
    "# Splitting in train and test set\n",
    "train_data = df.take(TAKE_SIZE)\n",
    "train_data = train_data.batch(BATCH_SIZE)\n",
    "\n",
    "test_data = df.skip(TAKE_SIZE)\n",
    "test_data = test_data.batch(BATCH_SIZE)"
   ]
  },
  {
   "cell_type": "code",
   "execution_count": 32,
   "metadata": {
    "colab": {
     "base_uri": "https://localhost:8080/"
    },
    "id": "S3tSpvw9FevF",
    "outputId": "ee6d1c0e-ebc5-4535-9cf4-592dd294f4a0"
   },
   "outputs": [
    {
     "name": "stdout",
     "output_type": "stream",
     "text": [
      "tf.Tensor(\n",
      "[[2502  383 2783 ...    0    0    0]\n",
      " [ 372 5641  178 ...    0    0    0]\n",
      " [2337 2433    0 ...    0    0    0]\n",
      " ...\n",
      " [  51  714 1708 ...    0    0    0]\n",
      " [ 113  651  230 ...    0    0    0]\n",
      " [ 622  649    0 ...    0    0    0]], shape=(32, 150), dtype=int32)\n"
     ]
    }
   ],
   "source": [
    "# Let's look at a batch\n",
    "for text, target in train_data.take(1):\n",
    "  print(text)"
   ]
  },
  {
   "cell_type": "markdown",
   "metadata": {
    "id": "niMW7TSNFv1k"
   },
   "source": [
    "#Modeling"
   ]
  },
  {
   "cell_type": "code",
   "execution_count": 33,
   "metadata": {
    "colab": {
     "base_uri": "https://localhost:8080/"
    },
    "id": "mw7Xy-qbFnms",
    "outputId": "9b9a210c-aff9-4950-e76f-f96978e15b88"
   },
   "outputs": [
    {
     "name": "stdout",
     "output_type": "stream",
     "text": [
      "22653\n"
     ]
    }
   ],
   "source": [
    "# Returning size of vocabulary\n",
    "vocab_size = len(token.word_index)\n",
    "print(vocab_size)"
   ]
  },
  {
   "cell_type": "code",
   "execution_count": 40,
   "metadata": {
    "id": "ZTjfjnwHR_4j"
   },
   "outputs": [],
   "source": [
    "maxlen = 150\n",
    "embedding_dim = 100\n",
    "\n",
    "\n",
    "model = tf.keras.Sequential([\n",
    "                             \n",
    "                  # Input Layer Word Embedding           \n",
    "                  tf.keras.layers.Embedding(vocab_size+1, embedding_dim, input_shape=[text.shape[-1],], input_length = maxlen),\n",
    "\n",
    "                  # Layer LSTM \n",
    "                  tf.keras.layers.LSTM(128, return_sequences = True),\n",
    "\n",
    "                  # Dropout Layer\n",
    "                  tf.keras.layers.Dropout(0.2),\n",
    "                  # Faltten Layer\n",
    "                  tf.keras.layers.Flatten(),\n",
    "\n",
    "                  # Dense Layers\n",
    "                  tf.keras.layers.Dense(64, activation = 'relu'),\n",
    "                  tf.keras.layers.Dense(32, activation = 'relu'),\n",
    "                  tf.keras.layers.Dense(16, activation = 'relu'),\n",
    "\n",
    "                  # Output layer\n",
    "                  tf.keras.layers.Dense(1, activation=\"sigmoid\")\n",
    "])\n",
    "                    "
   ]
  },
  {
   "cell_type": "code",
   "execution_count": 41,
   "metadata": {
    "colab": {
     "base_uri": "https://localhost:8080/"
    },
    "id": "-WOG-aNmVn24",
    "outputId": "1f277086-4ac6-47fb-c6c6-f1fab5fbb043"
   },
   "outputs": [
    {
     "name": "stdout",
     "output_type": "stream",
     "text": [
      "Model: \"sequential_1\"\n",
      "_________________________________________________________________\n",
      "Layer (type)                 Output Shape              Param #   \n",
      "=================================================================\n",
      "embedding_1 (Embedding)      (None, 150, 100)          2265400   \n",
      "_________________________________________________________________\n",
      "lstm_1 (LSTM)                (None, 150, 128)          117248    \n",
      "_________________________________________________________________\n",
      "dropout_1 (Dropout)          (None, 150, 128)          0         \n",
      "_________________________________________________________________\n",
      "flatten_1 (Flatten)          (None, 19200)             0         \n",
      "_________________________________________________________________\n",
      "dense_4 (Dense)              (None, 64)                1228864   \n",
      "_________________________________________________________________\n",
      "dense_5 (Dense)              (None, 32)                2080      \n",
      "_________________________________________________________________\n",
      "dense_6 (Dense)              (None, 16)                528       \n",
      "_________________________________________________________________\n",
      "dense_7 (Dense)              (None, 1)                 17        \n",
      "=================================================================\n",
      "Total params: 3,614,137\n",
      "Trainable params: 3,614,137\n",
      "Non-trainable params: 0\n",
      "_________________________________________________________________\n"
     ]
    }
   ],
   "source": [
    "# Printing the summary of our model\n",
    "model.summary()"
   ]
  },
  {
   "cell_type": "code",
   "execution_count": 42,
   "metadata": {
    "id": "NdQVtD4JZQb7"
   },
   "outputs": [],
   "source": [
    "# Creating a learning_rate_schedule \n",
    "initial_learning_rate = 0.001\n",
    "\n",
    "# Adam optimiser\n",
    "optimizer= tf.keras.optimizers.Adam(\n",
    "    learning_rate = initial_learning_rate\n",
    ")\n",
    "\n",
    "# Compiling model with the cost function.\n",
    "model.compile(optimizer=optimizer,\n",
    "              loss=tf.keras.losses.BinaryCrossentropy(),\n",
    "              metrics=[tf.keras.metrics.BinaryAccuracy()])"
   ]
  },
  {
   "cell_type": "code",
   "execution_count": 43,
   "metadata": {
    "colab": {
     "base_uri": "https://localhost:8080/"
    },
    "id": "vUpyBXY7arEs",
    "outputId": "7d320a85-a677-41ec-8392-e462b973dc07"
   },
   "outputs": [
    {
     "name": "stdout",
     "output_type": "stream",
     "text": [
      "Epoch 1/20\n",
      "189/189 [==============================] - 9s 38ms/step - loss: 0.5719 - binary_accuracy: 0.6938 - val_loss: 0.3671 - val_binary_accuracy: 0.8451\n",
      "Epoch 2/20\n",
      "189/189 [==============================] - 7s 38ms/step - loss: 0.3619 - binary_accuracy: 0.8465 - val_loss: 0.2461 - val_binary_accuracy: 0.9093\n",
      "Epoch 3/20\n",
      "189/189 [==============================] - 7s 37ms/step - loss: 0.2402 - binary_accuracy: 0.9075 - val_loss: 0.1487 - val_binary_accuracy: 0.9437\n",
      "Epoch 4/20\n",
      "189/189 [==============================] - 7s 37ms/step - loss: 0.1844 - binary_accuracy: 0.9349 - val_loss: 0.1144 - val_binary_accuracy: 0.9570\n",
      "Epoch 5/20\n",
      "189/189 [==============================] - 7s 37ms/step - loss: 0.1395 - binary_accuracy: 0.9520 - val_loss: 0.1008 - val_binary_accuracy: 0.9669\n",
      "Epoch 6/20\n",
      "189/189 [==============================] - 7s 37ms/step - loss: 0.1198 - binary_accuracy: 0.9589 - val_loss: 0.0882 - val_binary_accuracy: 0.9643\n",
      "Epoch 7/20\n",
      "189/189 [==============================] - 7s 37ms/step - loss: 0.0935 - binary_accuracy: 0.9667 - val_loss: 0.0793 - val_binary_accuracy: 0.9795\n",
      "Epoch 8/20\n",
      "189/189 [==============================] - 7s 37ms/step - loss: 0.0816 - binary_accuracy: 0.9707 - val_loss: 0.0691 - val_binary_accuracy: 0.9755\n",
      "Epoch 9/20\n",
      "189/189 [==============================] - 7s 37ms/step - loss: 0.0682 - binary_accuracy: 0.9725 - val_loss: 0.0521 - val_binary_accuracy: 0.9742\n",
      "Epoch 10/20\n",
      "189/189 [==============================] - 7s 37ms/step - loss: 0.0597 - binary_accuracy: 0.9755 - val_loss: 0.0589 - val_binary_accuracy: 0.9735\n",
      "Epoch 11/20\n",
      "189/189 [==============================] - 7s 37ms/step - loss: 0.0516 - binary_accuracy: 0.9770 - val_loss: 0.0492 - val_binary_accuracy: 0.9755\n",
      "Epoch 12/20\n",
      "189/189 [==============================] - 7s 37ms/step - loss: 0.0487 - binary_accuracy: 0.9783 - val_loss: 0.0403 - val_binary_accuracy: 0.9828\n",
      "Epoch 13/20\n",
      "189/189 [==============================] - 7s 38ms/step - loss: 0.0486 - binary_accuracy: 0.9783 - val_loss: 0.0397 - val_binary_accuracy: 0.9808\n",
      "Epoch 14/20\n",
      "189/189 [==============================] - 7s 37ms/step - loss: 0.0469 - binary_accuracy: 0.9790 - val_loss: 0.0307 - val_binary_accuracy: 0.9868\n",
      "Epoch 15/20\n",
      "189/189 [==============================] - 7s 37ms/step - loss: 0.0425 - binary_accuracy: 0.9791 - val_loss: 0.0508 - val_binary_accuracy: 0.9742\n",
      "Epoch 16/20\n",
      "189/189 [==============================] - 7s 37ms/step - loss: 0.0448 - binary_accuracy: 0.9796 - val_loss: 0.0275 - val_binary_accuracy: 0.9868\n",
      "Epoch 17/20\n",
      "189/189 [==============================] - 7s 37ms/step - loss: 0.0399 - binary_accuracy: 0.9796 - val_loss: 0.0451 - val_binary_accuracy: 0.9768\n",
      "Epoch 18/20\n",
      "189/189 [==============================] - 7s 36ms/step - loss: 0.0445 - binary_accuracy: 0.9788 - val_loss: 0.0376 - val_binary_accuracy: 0.9815\n",
      "Epoch 19/20\n",
      "189/189 [==============================] - 7s 37ms/step - loss: 0.0432 - binary_accuracy: 0.9803 - val_loss: 0.0376 - val_binary_accuracy: 0.9808\n",
      "Epoch 20/20\n",
      "189/189 [==============================] - 7s 37ms/step - loss: 0.0430 - binary_accuracy: 0.9823 - val_loss: 0.0370 - val_binary_accuracy: 0.9815\n"
     ]
    }
   ],
   "source": [
    "# Model training\n",
    "history = model.fit(train_data,\n",
    "                    epochs=20,\n",
    "                    validation_data=test_data)"
   ]
  },
  {
   "cell_type": "markdown",
   "metadata": {
    "id": "BBrrztbFIDIP"
   },
   "source": [
    "Our model is performing really well. \n",
    "\n",
    "We can have a better look by making the visualisation of accuracy on the training and validation datasets over training epochs, and of loss on the training and validation datasets over training epochs."
   ]
  },
  {
   "cell_type": "markdown",
   "metadata": {
    "id": "ZIU5vzBLIWaE"
   },
   "source": [
    "## Model Evaluation "
   ]
  },
  {
   "cell_type": "code",
   "execution_count": 44,
   "metadata": {
    "colab": {
     "base_uri": "https://localhost:8080/",
     "height": 295
    },
    "id": "9mmUogIwdtvz",
    "outputId": "4deddd45-e409-4588-fd00-a5b8a16463e1"
   },
   "outputs": [
    {
     "data": {
      "image/png": "[encoded data removed]",
      "text/plain": [
       "<Figure size 432x288 with 1 Axes>"
      ]
     },
     "metadata": {
      "needs_background": "light",
      "tags": []
     },
     "output_type": "display_data"
    }
   ],
   "source": [
    "# Visualization of training on accuracy\n",
    "plt.plot(history.history['binary_accuracy'], color='b')\n",
    "plt.plot(history.history['val_binary_accuracy'],color='r')\n",
    "plt.ylabel('Accuracy')\n",
    "plt.xlabel('Epochs')\n",
    "plt.title('Model Accuracy')\n",
    "plt.legend(['training accuracy', 'validation accuracy'], loc='lower right')\n",
    "plt.show()"
   ]
  },
  {
   "cell_type": "markdown",
   "metadata": {
    "id": "ZAAa5oYsMC7s"
   },
   "source": [
    "From the plot of accuracy we can see that the model is performing very well. We can also notice that the model has not over-learned the training dataset, showing comparable skill on both datasets, although we could try more epochs and see if there is any difference."
   ]
  },
  {
   "cell_type": "code",
   "execution_count": 46,
   "metadata": {
    "colab": {
     "base_uri": "https://localhost:8080/",
     "height": 295
    },
    "id": "uvRe_Ffia5x6",
    "outputId": "ba9e7ae5-f8aa-4911-94c9-d9b6b3486fe5"
   },
   "outputs": [
    {
     "data": {
      "image/png": "[encoded data removed]",
      "text/plain": [
       "<Figure size 432x288 with 1 Axes>"
      ]
     },
     "metadata": {
      "needs_background": "light",
      "tags": []
     },
     "output_type": "display_data"
    }
   ],
   "source": [
    "# Visualization of the training process on the loss function\n",
    "\n",
    "plt.plot(history.history['loss'], color=\"b\")\n",
    "plt.plot(history.history['val_loss'], color=\"r\")\n",
    "plt.ylabel('Loss')\n",
    "plt.xlabel('Epochs')\n",
    "plt.title('Model Loss')\n",
    "plt.legend(['training loss', 'validation loss'], loc='upper right')\n",
    "plt.show()"
   ]
  },
  {
   "cell_type": "markdown",
   "metadata": {
    "id": "aPIUmxECHhv0"
   },
   "source": [
    "The loss decreases very rapidly in the beginning, to decrease only lightly when the number of epochs increases. This is normal and is a good sign.\n",
    "Our model is not overfitting to the data."
   ]
  },
  {
   "cell_type": "markdown",
   "metadata": {
    "id": "D8uaFdlLArm5"
   },
   "source": [
    "# Test dataset"
   ]
  },
  {
   "cell_type": "code",
   "execution_count": 47,
   "metadata": {
    "colab": {
     "base_uri": "https://localhost:8080/",
     "height": 204
    },
    "id": "kbeKJrzcApub",
    "outputId": "eab33a07-978a-4408-c937-4f92f6e2983e"
   },
   "outputs": [
    {
     "data": {
      "text/html": [
       "<div>\n",
       "<style scoped>\n",
       "    .dataframe tbody tr th:only-of-type {\n",
       "        vertical-align: middle;\n",
       "    }\n",
       "\n",
       "    .dataframe tbody tr th {\n",
       "        vertical-align: top;\n",
       "    }\n",
       "\n",
       "    .dataframe thead th {\n",
       "        text-align: right;\n",
       "    }\n",
       "</style>\n",
       "<table border=\"1\" class=\"dataframe\">\n",
       "  <thead>\n",
       "    <tr style=\"text-align: right;\">\n",
       "      <th></th>\n",
       "      <th>id</th>\n",
       "      <th>keyword</th>\n",
       "      <th>text</th>\n",
       "    </tr>\n",
       "  </thead>\n",
       "  <tbody>\n",
       "    <tr>\n",
       "      <th>15</th>\n",
       "      <td>46</td>\n",
       "      <td>ablaze</td>\n",
       "      <td>Birmingham Wholesale Market is ablaze BBC News...</td>\n",
       "    </tr>\n",
       "    <tr>\n",
       "      <th>16</th>\n",
       "      <td>47</td>\n",
       "      <td>ablaze</td>\n",
       "      <td>@sunkxssedharry will you wear shorts for race ...</td>\n",
       "    </tr>\n",
       "    <tr>\n",
       "      <th>17</th>\n",
       "      <td>51</td>\n",
       "      <td>ablaze</td>\n",
       "      <td>#PreviouslyOnDoyinTv: Toke MakinwaÛªs marriag...</td>\n",
       "    </tr>\n",
       "    <tr>\n",
       "      <th>18</th>\n",
       "      <td>58</td>\n",
       "      <td>ablaze</td>\n",
       "      <td>Check these out: http://t.co/rOI2NSmEJJ http:/...</td>\n",
       "    </tr>\n",
       "    <tr>\n",
       "      <th>19</th>\n",
       "      <td>60</td>\n",
       "      <td>ablaze</td>\n",
       "      <td>PSA: IÛªm splitting my personalities.\\n\\n?? t...</td>\n",
       "    </tr>\n",
       "  </tbody>\n",
       "</table>\n",
       "</div>"
      ],
      "text/plain": [
       "    id keyword                                               text\n",
       "15  46  ablaze  Birmingham Wholesale Market is ablaze BBC News...\n",
       "16  47  ablaze  @sunkxssedharry will you wear shorts for race ...\n",
       "17  51  ablaze  #PreviouslyOnDoyinTv: Toke MakinwaÛªs marriag...\n",
       "18  58  ablaze  Check these out: http://t.co/rOI2NSmEJJ http:/...\n",
       "19  60  ablaze  PSA: IÛªm splitting my personalities.\\n\\n?? t..."
      ]
     },
     "execution_count": 47,
     "metadata": {
      "tags": []
     },
     "output_type": "execute_result"
    }
   ],
   "source": [
    "# Returning the 5 first rows\n",
    "test.head()"
   ]
  },
  {
   "cell_type": "code",
   "execution_count": 48,
   "metadata": {
    "colab": {
     "base_uri": "https://localhost:8080/",
     "height": 204
    },
    "id": "EX92MyiBApxv",
    "outputId": "84102553-8b82-45a6-f86d-61cedb704eba"
   },
   "outputs": [
    {
     "data": {
      "text/html": [
       "<div>\n",
       "<style scoped>\n",
       "    .dataframe tbody tr th:only-of-type {\n",
       "        vertical-align: middle;\n",
       "    }\n",
       "\n",
       "    .dataframe tbody tr th {\n",
       "        vertical-align: top;\n",
       "    }\n",
       "\n",
       "    .dataframe thead th {\n",
       "        text-align: right;\n",
       "    }\n",
       "</style>\n",
       "<table border=\"1\" class=\"dataframe\">\n",
       "  <thead>\n",
       "    <tr style=\"text-align: right;\">\n",
       "      <th></th>\n",
       "      <th>id</th>\n",
       "      <th>keyword</th>\n",
       "      <th>text</th>\n",
       "      <th>cleaned_text</th>\n",
       "    </tr>\n",
       "  </thead>\n",
       "  <tbody>\n",
       "    <tr>\n",
       "      <th>15</th>\n",
       "      <td>46</td>\n",
       "      <td>ablaze</td>\n",
       "      <td>Birmingham Wholesale Market is ablaze BBC News...</td>\n",
       "      <td>birmingham wholesale market ablaze bbc news fi...</td>\n",
       "    </tr>\n",
       "    <tr>\n",
       "      <th>16</th>\n",
       "      <td>47</td>\n",
       "      <td>ablaze</td>\n",
       "      <td>@sunkxssedharry will you wear shorts for race ...</td>\n",
       "      <td>@sunkxssedharry -PRON- wear short race ablaze</td>\n",
       "    </tr>\n",
       "    <tr>\n",
       "      <th>17</th>\n",
       "      <td>51</td>\n",
       "      <td>ablaze</td>\n",
       "      <td>#PreviouslyOnDoyinTv: Toke MakinwaÛªs marriag...</td>\n",
       "      <td># previouslyondoyintv : toke marriage crisis s...</td>\n",
       "    </tr>\n",
       "    <tr>\n",
       "      <th>18</th>\n",
       "      <td>58</td>\n",
       "      <td>ablaze</td>\n",
       "      <td>Check these out: http://t.co/rOI2NSmEJJ http:/...</td>\n",
       "      <td>check # nsfw</td>\n",
       "    </tr>\n",
       "    <tr>\n",
       "      <th>19</th>\n",
       "      <td>60</td>\n",
       "      <td>ablaze</td>\n",
       "      <td>PSA: IÛªm splitting my personalities.\\n\\n?? t...</td>\n",
       "      <td>split -PRON- techie follow @ablaze_co burner f...</td>\n",
       "    </tr>\n",
       "  </tbody>\n",
       "</table>\n",
       "</div>"
      ],
      "text/plain": [
       "    id  ...                                       cleaned_text\n",
       "15  46  ...  birmingham wholesale market ablaze bbc news fi...\n",
       "16  47  ...      @sunkxssedharry -PRON- wear short race ablaze\n",
       "17  51  ...  # previouslyondoyintv : toke marriage crisis s...\n",
       "18  58  ...                                       check # nsfw\n",
       "19  60  ...  split -PRON- techie follow @ablaze_co burner f...\n",
       "\n",
       "[5 rows x 4 columns]"
      ]
     },
     "execution_count": 48,
     "metadata": {
      "tags": []
     },
     "output_type": "execute_result"
    }
   ],
   "source": [
    "# Making everything in lowercase\n",
    "test[\"cleaned_text\"] = test[\"text\"].str.lower().str.split()\n",
    "\n",
    "# Removing punctuation and '#' and '@' symbols\n",
    "test['cleaned_text'] = test['cleaned_text'].apply(lambda x:' '.join(ch for ch in x if ch.isalnum() or ch.startswith('#') or ch.startswith('@')))\n",
    "\n",
    "# Removing stop-words\n",
    "test[\"cleaned_text\"] = test[\"cleaned_text\"].apply(lambda x: \" \".join([token.lemma_ for token in nlp(x) if token.lemma_ not in STOP_WORDS]))\n",
    "\n",
    "test.head()"
   ]
  },
  {
   "cell_type": "code",
   "execution_count": 49,
   "metadata": {
    "id": "YAspnnXxAqA9"
   },
   "outputs": [],
   "source": [
    "# Fitting the tokenizer on texts\n",
    "token.fit_on_texts(test['text'])"
   ]
  },
  {
   "cell_type": "code",
   "execution_count": 50,
   "metadata": {
    "colab": {
     "base_uri": "https://localhost:8080/",
     "height": 204
    },
    "id": "EavDWBymAqEp",
    "outputId": "07950351-8a38-4db8-d1e0-43cb6e4c221f"
   },
   "outputs": [
    {
     "data": {
      "text/html": [
       "<div>\n",
       "<style scoped>\n",
       "    .dataframe tbody tr th:only-of-type {\n",
       "        vertical-align: middle;\n",
       "    }\n",
       "\n",
       "    .dataframe tbody tr th {\n",
       "        vertical-align: top;\n",
       "    }\n",
       "\n",
       "    .dataframe thead th {\n",
       "        text-align: right;\n",
       "    }\n",
       "</style>\n",
       "<table border=\"1\" class=\"dataframe\">\n",
       "  <thead>\n",
       "    <tr style=\"text-align: right;\">\n",
       "      <th></th>\n",
       "      <th>id</th>\n",
       "      <th>keyword</th>\n",
       "      <th>text</th>\n",
       "      <th>cleaned_text</th>\n",
       "      <th>tokenized_text</th>\n",
       "    </tr>\n",
       "  </thead>\n",
       "  <tbody>\n",
       "    <tr>\n",
       "      <th>15</th>\n",
       "      <td>46</td>\n",
       "      <td>ablaze</td>\n",
       "      <td>Birmingham Wholesale Market is ablaze BBC News...</td>\n",
       "      <td>birmingham wholesale market ablaze bbc news fi...</td>\n",
       "      <td>[5510, 2823, 438, 610, 804, 59, 43, 1020, 2823...</td>\n",
       "    </tr>\n",
       "    <tr>\n",
       "      <th>16</th>\n",
       "      <td>47</td>\n",
       "      <td>ablaze</td>\n",
       "      <td>@sunkxssedharry will you wear shorts for race ...</td>\n",
       "      <td>@sunkxssedharry -PRON- wear short race ablaze</td>\n",
       "      <td>[22999, 2829, 1166, 3485, 610]</td>\n",
       "    </tr>\n",
       "    <tr>\n",
       "      <th>17</th>\n",
       "      <td>51</td>\n",
       "      <td>ablaze</td>\n",
       "      <td>#PreviouslyOnDoyinTv: Toke MakinwaÛªs marriag...</td>\n",
       "      <td># previouslyondoyintv : toke marriage crisis s...</td>\n",
       "      <td>[23000, 23001, 8323, 770, 279, 1066, 515]</td>\n",
       "    </tr>\n",
       "    <tr>\n",
       "      <th>18</th>\n",
       "      <td>58</td>\n",
       "      <td>ablaze</td>\n",
       "      <td>Check these out: http://t.co/rOI2NSmEJJ http:/...</td>\n",
       "      <td>check # nsfw</td>\n",
       "      <td>[290, 2827]</td>\n",
       "    </tr>\n",
       "    <tr>\n",
       "      <th>19</th>\n",
       "      <td>60</td>\n",
       "      <td>ablaze</td>\n",
       "      <td>PSA: IÛªm splitting my personalities.\\n\\n?? t...</td>\n",
       "      <td>split -PRON- techie follow @ablaze_co burner f...</td>\n",
       "      <td>[3834, 835, 610, 2, 17397, 835, 610]</td>\n",
       "    </tr>\n",
       "  </tbody>\n",
       "</table>\n",
       "</div>"
      ],
      "text/plain": [
       "    id  ...                                     tokenized_text\n",
       "15  46  ...  [5510, 2823, 438, 610, 804, 59, 43, 1020, 2823...\n",
       "16  47  ...                     [22999, 2829, 1166, 3485, 610]\n",
       "17  51  ...          [23000, 23001, 8323, 770, 279, 1066, 515]\n",
       "18  58  ...                                        [290, 2827]\n",
       "19  60  ...               [3834, 835, 610, 2, 17397, 835, 610]\n",
       "\n",
       "[5 rows x 5 columns]"
      ]
     },
     "execution_count": 50,
     "metadata": {
      "tags": []
     },
     "output_type": "execute_result"
    }
   ],
   "source": [
    "# Encoding the words of the text\n",
    "test['tokenized_text'] = token.texts_to_sequences(test['cleaned_text'])\n",
    "test.head()"
   ]
  },
  {
   "cell_type": "code",
   "execution_count": 51,
   "metadata": {
    "colab": {
     "base_uri": "https://localhost:8080/",
     "height": 336
    },
    "id": "h2-fZoUrd19G",
    "outputId": "7bb1d480-94c7-4b8e-c999-2141dadf2731"
   },
   "outputs": [
    {
     "name": "stderr",
     "output_type": "stream",
     "text": [
      "/usr/local/lib/python3.7/dist-packages/seaborn/distributions.py:2557: FutureWarning: `distplot` is a deprecated function and will be removed in a future version. Please adapt your code to use either `displot` (a figure-level function with similar flexibility) or `histplot` (an axes-level function for histograms).\n",
      "  warnings.warn(msg, FutureWarning)\n"
     ]
    },
    {
     "data": {
      "text/plain": [
       "<matplotlib.axes._subplots.AxesSubplot at 0x7f48f0229650>"
      ]
     },
     "execution_count": 51,
     "metadata": {
      "tags": []
     },
     "output_type": "execute_result"
    },
    {
     "data": {
      "image/png": "[encoded data removed]",
      "text/plain": [
       "<Figure size 432x288 with 1 Axes>"
      ]
     },
     "metadata": {
      "needs_background": "light",
      "tags": []
     },
     "output_type": "display_data"
    }
   ],
   "source": [
    "sns.distplot([len(i) for i in test['text']])"
   ]
  },
  {
   "cell_type": "markdown",
   "metadata": {
    "id": "yG3i-2uIJF-d"
   },
   "source": [
    "The biggest length of a tweet is just under 150 words, so we will set 150 as the maximum length of the pad sequences."
   ]
  },
  {
   "cell_type": "code",
   "execution_count": 52,
   "metadata": {
    "id": "544BIPyzCwGZ"
   },
   "outputs": [],
   "source": [
    "# Creating pad sequence for every tweet\n",
    "text_pad = tf.keras.preprocessing.sequence.pad_sequences(test[\"tokenized_text\"], padding=\"post\", maxlen = 150)"
   ]
  },
  {
   "cell_type": "code",
   "execution_count": 53,
   "metadata": {
    "colab": {
     "base_uri": "https://localhost:8080/"
    },
    "id": "1w6oGk41CwJr",
    "outputId": "26d827e7-55b0-47c2-fe25-33c739ca9ed1"
   },
   "outputs": [
    {
     "data": {
      "text/plain": [
       "(3237, 150)"
      ]
     },
     "execution_count": 53,
     "metadata": {
      "tags": []
     },
     "output_type": "execute_result"
    }
   ],
   "source": [
    "# Returning the shape of the pad text\n",
    "text_pad.shape"
   ]
  },
  {
   "cell_type": "code",
   "execution_count": 54,
   "metadata": {
    "colab": {
     "base_uri": "https://localhost:8080/"
    },
    "id": "E5ELaBZ-CwNK",
    "outputId": "b166569a-b501-46a7-a754-49a8a3951826"
   },
   "outputs": [
    {
     "data": {
      "text/plain": [
       "array([5510, 2823,  438,  610,  804,   59,   43, 1020, 2823,  438,    0,\n",
       "          0,    0,    0,    0,    0,    0,    0,    0,    0,    0,    0,\n",
       "          0,    0,    0,    0,    0,    0,    0,    0,    0,    0,    0,\n",
       "          0,    0,    0,    0,    0,    0,    0,    0,    0,    0,    0,\n",
       "          0,    0,    0,    0,    0,    0,    0,    0,    0,    0,    0,\n",
       "          0,    0,    0,    0,    0,    0,    0,    0,    0,    0,    0,\n",
       "          0,    0,    0,    0,    0,    0,    0,    0,    0,    0,    0,\n",
       "          0,    0,    0,    0,    0,    0,    0,    0,    0,    0,    0,\n",
       "          0,    0,    0,    0,    0,    0,    0,    0,    0,    0,    0,\n",
       "          0,    0,    0,    0,    0,    0,    0,    0,    0,    0,    0,\n",
       "          0,    0,    0,    0,    0,    0,    0,    0,    0,    0,    0,\n",
       "          0,    0,    0,    0,    0,    0,    0,    0,    0,    0,    0,\n",
       "          0,    0,    0,    0,    0,    0,    0,    0,    0,    0,    0,\n",
       "          0,    0,    0,    0,    0,    0,    0], dtype=int32)"
      ]
     },
     "execution_count": 54,
     "metadata": {
      "tags": []
     },
     "output_type": "execute_result"
    }
   ],
   "source": [
    "# First element of the pad sequence\n",
    "text_pad[0]"
   ]
  },
  {
   "cell_type": "markdown",
   "metadata": {
    "id": "lX1WTUI8KOOI"
   },
   "source": [
    "The results where evaluated by Jedha. The acuracy of the train set calculates at 97.8%."
   ]
  },
  {
   "cell_type": "code",
   "execution_count": null,
   "metadata": {
    "id": "k0vBjwS6KaP9"
   },
   "outputs": [],
   "source": []
  }
 ],
 "metadata": {
  "accelerator": "GPU",
  "colab": {
   "name": "07_NLP_Project_Real_or_Not_NLP_with_Disaster (1).ipynb",
   "provenance": []
  },
  "kernelspec": {
   "display_name": "Python 3",
   "language": "python",
   "name": "python3"
  },
  "language_info": {
   "codemirror_mode": {
    "name": "ipython",
    "version": 3
   },
   "file_extension": ".py",
   "mimetype": "text/x-python",
   "name": "python",
   "nbconvert_exporter": "python",
   "pygments_lexer": "ipython3",
   "version": "3.8.5"
  }
 },
 "nbformat": 4,
 "nbformat_minor": 1
}
